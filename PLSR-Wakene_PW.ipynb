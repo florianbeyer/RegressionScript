{
 "cells": [
  {
   "cell_type": "markdown",
   "metadata": {},
   "source": [
    "# Regression Script\n",
    "## Partial Least Squares\n",
    "\n",
    "### Florian Beyer\n",
    "### 2020-04-28\n",
    "### V0.2\n",
    "\n",
    "Quelle:\n",
    "- https://scikit-learn.org/stable/modules/generated/sklearn.cross_decomposition.PLSRegression.html\n",
    "- https://towardsdatascience.com/random-forest-in-python-24d0893d51c0\n",
    "- https://heartbeat.fritz.ai/random-forest-regression-in-python-using-scikit-learn-9e9b147e2153\n",
    "- variable importance: https://github.com/scikit-learn/scikit-learn/issues/7050"
   ]
  },
  {
   "cell_type": "code",
   "execution_count": 1,
   "metadata": {},
   "outputs": [],
   "source": [
    "# Requried Packages\n",
    "from osgeo import gdal, ogr, gdal_array # I/O image data\n",
    "import numpy as np # math and array handling\n",
    "import matplotlib.pyplot as plt # plot figures\n",
    "import pandas as pd # handling large data as table sheets\n",
    "from joblib import dump, load\n",
    "from operator import itemgetter\n",
    "\n",
    "from sklearn.cross_decomposition import PLSRegression\n",
    "from sklearn.model_selection import train_test_split\n",
    "from sklearn.metrics import mean_squared_error, r2_score\n",
    "\n",
    "\n",
    "# Tell GDAL to throw Python exceptions, and register all drivers\n",
    "gdal.UseExceptions()\n",
    "gdal.AllRegister()"
   ]
  },
  {
   "cell_type": "code",
   "execution_count": 5,
   "metadata": {},
   "outputs": [],
   "source": [
    "# data input\n",
    "\n",
    "# define a number of trees that should be used (default = 500)\n",
    "est = 1000\n",
    "\n",
    "# Size of splitting the data (0.1 -> 10 % test data, 90 % training data)\n",
    "testSize = 0.25\n",
    "\n",
    "randomState = 35\n",
    "\n",
    "# the remote sensing image you want to classify\n",
    "img_RS = 'N:/Projekt_Wetscapes/Bearbeitung/2020_05_15_Wakene_PWPD/Raster/Stack/2018_06_12_PW_FINAL.tif'\n",
    "\n",
    "# training and validation\n",
    "#    as image in the same extand as your remote sensing image\n",
    "#    no data pixels = 0 or negative\n",
    "#    class pixels > 0 and as integer\n",
    "field = 'N:/Projekt_Wetscapes/Bearbeitung/2020_05_15_Wakene_PWPD/Vektor/2018_06_12_PW_SOM.shp'\n",
    "\n",
    "\n",
    "# what is the attributes name of your classes in the shape file (field name of the classes)?\n",
    "attribute = 'SOM%'\n",
    "\n",
    "\n",
    "# save path, predicted image\n",
    "prediction_map = 'N:/Projekt_Wetscapes/Bearbeitung/2020_05_15_Wakene_PWPD/Ergebnisse/PLSR_PW.tif'\n",
    "\n",
    "\n",
    "# save path, trained model\n",
    "#save_model = 'N:\\\\Daten_GG\\\\projekte\\\\PFIFFikus (EFRE) - 74120125\\\\Bilder\\\\2020_06_05_Bliesekow_EP1\\\\GIS\\\\Ergebnis\\\\B1W_SPAD_PLSR_model.joblib'\n"
   ]
  },
  {
   "cell_type": "code",
   "execution_count": 6,
   "metadata": {},
   "outputs": [
    {
     "name": "stdout",
     "output_type": "stream",
     "text": [
      "Available attributes in the shape file are: ['Point_ID', 'Hochwert_B', 'Rechtswert', 'Ortho_Heig', 'Datum_Uhrz', 'SOM%']\n"
     ]
    }
   ],
   "source": [
    "# laod training data and show all shape attributes\n",
    "\n",
    "#model_dataset = gdal.Open(model_raster_fname)\n",
    "shape_dataset = ogr.Open(field)\n",
    "shape_layer = shape_dataset.GetLayer()\n",
    "\n",
    "# extract the names of all attributes (fieldnames) in the shape file\n",
    "attributes = []\n",
    "ldefn = shape_layer.GetLayerDefn()\n",
    "for n in range(ldefn.GetFieldCount()):\n",
    "    fdefn = ldefn.GetFieldDefn(n)\n",
    "    attributes.append(fdefn.name)\n",
    "    \n",
    "# print the attributes\n",
    "print('Available attributes in the shape file are: {}'.format(attributes))"
   ]
  },
  {
   "cell_type": "code",
   "execution_count": 7,
   "metadata": {},
   "outputs": [],
   "source": [
    "# Data preparation\n",
    "\n",
    "# load image data\n",
    "\n",
    "img_ds = gdal.Open(img_RS, gdal.GA_ReadOnly)\n",
    "\n",
    "img = np.zeros((img_ds.RasterYSize, img_ds.RasterXSize, img_ds.RasterCount),\n",
    "               gdal_array.GDALTypeCodeToNumericTypeCode(img_ds.GetRasterBand(1).DataType))\n",
    "for b in range(img.shape[2]):\n",
    "    img[:, :, b] = img_ds.GetRasterBand(b + 1).ReadAsArray()"
   ]
  },
  {
   "cell_type": "code",
   "execution_count": 8,
   "metadata": {},
   "outputs": [],
   "source": [
    "# Data preparation\n",
    "# load training data from shape file\n",
    "\n",
    "#model_dataset = gdal.Open(model_raster_fname)\n",
    "shape_dataset = ogr.Open(field)\n",
    "shape_layer = shape_dataset.GetLayer()\n",
    "mem_drv = gdal.GetDriverByName('MEM')\n",
    "mem_raster = mem_drv.Create('',img_ds.RasterXSize,img_ds.RasterYSize,1,gdal.GDT_UInt16)\n",
    "mem_raster.SetProjection(img_ds.GetProjection())\n",
    "mem_raster.SetGeoTransform(img_ds.GetGeoTransform())\n",
    "mem_band = mem_raster.GetRasterBand(1)\n",
    "mem_band.Fill(0)\n",
    "mem_band.SetNoDataValue(0)\n",
    "\n",
    "att_ = 'ATTRIBUTE='+attribute\n",
    "# http://gdal.org/gdal__alg_8h.html#adfe5e5d287d6c184aab03acbfa567cb1\n",
    "# http://gis.stackexchange.com/questions/31568/gdal-rasterizelayer-doesnt-burn-all-polygons-to-raster\n",
    "err = gdal.RasterizeLayer(mem_raster, [1], shape_layer, None, None, [1],  [att_,\"ALL_TOUCHED=TRUE\"])\n",
    "assert err == gdal.CE_None\n",
    "\n",
    "roi = mem_raster.ReadAsArray()\n"
   ]
  },
  {
   "cell_type": "code",
   "execution_count": 9,
   "metadata": {},
   "outputs": [
    {
     "data": {
      "image/png": "[encoded data removed]",
      "text/plain": [
       "<Figure size 432x288 with 2 Axes>"
      ]
     },
     "metadata": {
      "needs_background": "light"
     },
     "output_type": "display_data"
    }
   ],
   "source": [
    "# Display image and Training data\n",
    "\n",
    "plt.subplot(121)\n",
    "plt.imshow(img[:, :, 0], cmap=plt.cm.Greys_r)\n",
    "plt.title('RS image - first band')\n",
    "\n",
    "plt.subplot(122)\n",
    "plt.imshow(roi, cmap=plt.cm.Spectral)\n",
    "plt.title('Training Image')\n",
    "\n",
    "plt.show()\n"
   ]
  },
  {
   "cell_type": "code",
   "execution_count": 10,
   "metadata": {},
   "outputs": [
    {
     "name": "stdout",
     "output_type": "stream",
     "text": [
      "We have 99 training samples\n"
     ]
    }
   ],
   "source": [
    "# Number of training pixels:\n",
    "n_samples = (roi > 0).sum()\n",
    "print('We have {n} training samples'.format(n=n_samples))# Subset the image dataset with the training image = X"
   ]
  },
  {
   "cell_type": "code",
   "execution_count": 11,
   "metadata": {},
   "outputs": [],
   "source": [
    "# Mask the classes on the training dataset = y\n",
    "# These will have n_samples rows\n",
    "X = img[roi > 0, :]\n",
    "y = roi[roi > 0]"
   ]
  },
  {
   "cell_type": "code",
   "execution_count": 12,
   "metadata": {},
   "outputs": [
    {
     "name": "stdout",
     "output_type": "stream",
     "text": [
      "The shape of our features is: (99, 22)\n",
      "The number of Spectra is: 99\n",
      "The number of bands is: 22\n"
     ]
    },
    {
     "data": {
      "text/html": [
       "<div>\n",
       "<style scoped>\n",
       "    .dataframe tbody tr th:only-of-type {\n",
       "        vertical-align: middle;\n",
       "    }\n",
       "\n",
       "    .dataframe tbody tr th {\n",
       "        vertical-align: top;\n",
       "    }\n",
       "\n",
       "    .dataframe thead th {\n",
       "        text-align: right;\n",
       "    }\n",
       "</style>\n",
       "<table border=\"1\" class=\"dataframe\">\n",
       "  <thead>\n",
       "    <tr style=\"text-align: right;\">\n",
       "      <th></th>\n",
       "      <th>Band_1</th>\n",
       "      <th>Band_2</th>\n",
       "      <th>Band_3</th>\n",
       "      <th>Band_4</th>\n",
       "      <th>Band_5</th>\n",
       "      <th>Band_6</th>\n",
       "      <th>Band_7</th>\n",
       "      <th>Band_8</th>\n",
       "      <th>Band_9</th>\n",
       "      <th>Band_10</th>\n",
       "      <th>...</th>\n",
       "      <th>Band_14</th>\n",
       "      <th>Band_15</th>\n",
       "      <th>Band_16</th>\n",
       "      <th>Band_17</th>\n",
       "      <th>Band_18</th>\n",
       "      <th>Band_19</th>\n",
       "      <th>Band_20</th>\n",
       "      <th>Band_21</th>\n",
       "      <th>Band_22</th>\n",
       "      <th>value</th>\n",
       "    </tr>\n",
       "  </thead>\n",
       "  <tbody>\n",
       "    <tr>\n",
       "      <th>0</th>\n",
       "      <td>207.0</td>\n",
       "      <td>195.0</td>\n",
       "      <td>126.0</td>\n",
       "      <td>0.093320</td>\n",
       "      <td>0.060134</td>\n",
       "      <td>0.396954</td>\n",
       "      <td>0.536450</td>\n",
       "      <td>39.932461</td>\n",
       "      <td>17.477051</td>\n",
       "      <td>0.173958</td>\n",
       "      <td>...</td>\n",
       "      <td>0.703638</td>\n",
       "      <td>1.822521</td>\n",
       "      <td>0.737664</td>\n",
       "      <td>0.686452</td>\n",
       "      <td>0.460362</td>\n",
       "      <td>0.149448</td>\n",
       "      <td>0.798404</td>\n",
       "      <td>-0.049983</td>\n",
       "      <td>-0.263094</td>\n",
       "      <td>67</td>\n",
       "    </tr>\n",
       "    <tr>\n",
       "      <th>1</th>\n",
       "      <td>135.0</td>\n",
       "      <td>142.0</td>\n",
       "      <td>45.0</td>\n",
       "      <td>0.077374</td>\n",
       "      <td>0.060754</td>\n",
       "      <td>0.349857</td>\n",
       "      <td>0.495003</td>\n",
       "      <td>39.920631</td>\n",
       "      <td>17.362862</td>\n",
       "      <td>0.156310</td>\n",
       "      <td>...</td>\n",
       "      <td>0.729640</td>\n",
       "      <td>1.351004</td>\n",
       "      <td>0.651246</td>\n",
       "      <td>0.620259</td>\n",
       "      <td>0.413810</td>\n",
       "      <td>0.171799</td>\n",
       "      <td>0.781365</td>\n",
       "      <td>-0.037262</td>\n",
       "      <td>-0.105379</td>\n",
       "      <td>68</td>\n",
       "    </tr>\n",
       "    <tr>\n",
       "      <th>2</th>\n",
       "      <td>159.0</td>\n",
       "      <td>176.0</td>\n",
       "      <td>85.0</td>\n",
       "      <td>0.096029</td>\n",
       "      <td>0.058483</td>\n",
       "      <td>0.391974</td>\n",
       "      <td>0.510051</td>\n",
       "      <td>39.734531</td>\n",
       "      <td>18.012812</td>\n",
       "      <td>0.188273</td>\n",
       "      <td>...</td>\n",
       "      <td>0.683115</td>\n",
       "      <td>1.838486</td>\n",
       "      <td>0.708831</td>\n",
       "      <td>0.673708</td>\n",
       "      <td>0.450843</td>\n",
       "      <td>0.130903</td>\n",
       "      <td>0.794269</td>\n",
       "      <td>-0.052421</td>\n",
       "      <td>-0.263771</td>\n",
       "      <td>66</td>\n",
       "    </tr>\n",
       "    <tr>\n",
       "      <th>3</th>\n",
       "      <td>142.0</td>\n",
       "      <td>140.0</td>\n",
       "      <td>68.0</td>\n",
       "      <td>0.090704</td>\n",
       "      <td>0.069798</td>\n",
       "      <td>0.325486</td>\n",
       "      <td>0.415276</td>\n",
       "      <td>39.648048</td>\n",
       "      <td>17.738144</td>\n",
       "      <td>0.218418</td>\n",
       "      <td>...</td>\n",
       "      <td>0.641473</td>\n",
       "      <td>0.973365</td>\n",
       "      <td>0.530101</td>\n",
       "      <td>0.511192</td>\n",
       "      <td>0.389555</td>\n",
       "      <td>0.121213</td>\n",
       "      <td>0.712217</td>\n",
       "      <td>-0.043958</td>\n",
       "      <td>0.177311</td>\n",
       "      <td>67</td>\n",
       "    </tr>\n",
       "    <tr>\n",
       "      <th>4</th>\n",
       "      <td>134.0</td>\n",
       "      <td>156.0</td>\n",
       "      <td>44.0</td>\n",
       "      <td>0.084393</td>\n",
       "      <td>0.040341</td>\n",
       "      <td>0.408180</td>\n",
       "      <td>0.569568</td>\n",
       "      <td>39.812912</td>\n",
       "      <td>17.078974</td>\n",
       "      <td>0.148171</td>\n",
       "      <td>...</td>\n",
       "      <td>0.741901</td>\n",
       "      <td>3.066665</td>\n",
       "      <td>0.830809</td>\n",
       "      <td>0.805375</td>\n",
       "      <td>0.460149</td>\n",
       "      <td>0.165061</td>\n",
       "      <td>0.867715</td>\n",
       "      <td>-0.050934</td>\n",
       "      <td>-1.081276</td>\n",
       "      <td>67</td>\n",
       "    </tr>\n",
       "  </tbody>\n",
       "</table>\n",
       "<p>5 rows × 23 columns</p>\n",
       "</div>"
      ],
      "text/plain": [
       "   Band_1  Band_2  Band_3    Band_4    Band_5    Band_6    Band_7     Band_8  \\\n",
       "0   207.0   195.0   126.0  0.093320  0.060134  0.396954  0.536450  39.932461   \n",
       "1   135.0   142.0    45.0  0.077374  0.060754  0.349857  0.495003  39.920631   \n",
       "2   159.0   176.0    85.0  0.096029  0.058483  0.391974  0.510051  39.734531   \n",
       "3   142.0   140.0    68.0  0.090704  0.069798  0.325486  0.415276  39.648048   \n",
       "4   134.0   156.0    44.0  0.084393  0.040341  0.408180  0.569568  39.812912   \n",
       "\n",
       "      Band_9   Band_10  ...   Band_14   Band_15   Band_16   Band_17   Band_18  \\\n",
       "0  17.477051  0.173958  ...  0.703638  1.822521  0.737664  0.686452  0.460362   \n",
       "1  17.362862  0.156310  ...  0.729640  1.351004  0.651246  0.620259  0.413810   \n",
       "2  18.012812  0.188273  ...  0.683115  1.838486  0.708831  0.673708  0.450843   \n",
       "3  17.738144  0.218418  ...  0.641473  0.973365  0.530101  0.511192  0.389555   \n",
       "4  17.078974  0.148171  ...  0.741901  3.066665  0.830809  0.805375  0.460149   \n",
       "\n",
       "    Band_19   Band_20   Band_21   Band_22  value  \n",
       "0  0.149448  0.798404 -0.049983 -0.263094     67  \n",
       "1  0.171799  0.781365 -0.037262 -0.105379     68  \n",
       "2  0.130903  0.794269 -0.052421 -0.263771     66  \n",
       "3  0.121213  0.712217 -0.043958  0.177311     67  \n",
       "4  0.165061  0.867715 -0.050934 -1.081276     67  \n",
       "\n",
       "[5 rows x 23 columns]"
      ]
     },
     "execution_count": 12,
     "metadata": {},
     "output_type": "execute_result"
    }
   ],
   "source": [
    "features = pd.DataFrame(X)\n",
    "\n",
    "band_names = []\n",
    "for i in range(X.shape[1]):\n",
    "#for i in range(0,2500):\n",
    "    nband = \"Band_\"+ str(i+1)\n",
    "    band_names.append(nband)\n",
    "\n",
    "features.columns = band_names\n",
    "\n",
    "print('The shape of our features is:', features.shape)\n",
    "print('The number of Spectra is:', features.shape[0])\n",
    "print('The number of bands is:', features.shape[1])\n",
    "\n",
    "features['value'] = y\n",
    "\n",
    "features.head()"
   ]
  },
  {
   "cell_type": "code",
   "execution_count": 13,
   "metadata": {},
   "outputs": [
    {
     "name": "stdout",
     "output_type": "stream",
     "text": [
      "Training Features Shape: (74, 22)\n",
      "Training Labels Shape: (74,)\n",
      "Testing Features Shape: (25, 22)\n",
      "Testing Labels Shape: (25,)\n"
     ]
    }
   ],
   "source": [
    "# Labels are the values we want to predict\n",
    "labels = np.array(features['value'])\n",
    "\n",
    "# Remove the labels from the features\n",
    "# axis 1 refers to the columns\n",
    "features = features.drop('value', axis = 1)\n",
    "\n",
    "# Saving feature names for later use\n",
    "feature_list = list(features.columns)\n",
    "\n",
    "# Convert to numpy array\n",
    "features = np.array(features)\n",
    "\n",
    "# Split the data into training and testing sets\n",
    "train_features, test_features, train_labels, test_labels = train_test_split(features, labels, test_size = testSize, random_state = randomState)\n",
    "\n",
    "print('Training Features Shape:', train_features.shape)\n",
    "print('Training Labels Shape:', train_labels.shape)\n",
    "print('Testing Features Shape:', test_features.shape)\n",
    "print('Testing Labels Shape:', test_labels.shape)"
   ]
  },
  {
   "cell_type": "code",
   "execution_count": 14,
   "metadata": {},
   "outputs": [
    {
     "data": {
      "text/plain": [
       "PLSRegression(copy=True, max_iter=500, n_components=4, scale=True, tol=1e-06)"
      ]
     },
     "execution_count": 14,
     "metadata": {},
     "output_type": "execute_result"
    }
   ],
   "source": [
    "plsr = PLSRegression(n_components=4,\n",
    "                     scale=True,\n",
    "                     max_iter=500,\n",
    "                     tol=1e-06,\n",
    "                     copy=True)\n",
    "\n",
    "plsr.fit(train_features, train_labels)"
   ]
  },
  {
   "cell_type": "code",
   "execution_count": 15,
   "metadata": {},
   "outputs": [
    {
     "name": "stdout",
     "output_type": "stream",
     "text": [
      "0.1893197168849099\n"
     ]
    }
   ],
   "source": [
    "print(plsr.score(train_features, train_labels))"
   ]
  },
  {
   "cell_type": "code",
   "execution_count": 16,
   "metadata": {},
   "outputs": [
    {
     "name": "stdout",
     "output_type": "stream",
     "text": [
      "Band 1: 0.888578412215833\n",
      "Band 2: 0.8401577124279724\n",
      "Band 3: 1.4006620290258422\n",
      "Band 4: 1.0196984541338066\n",
      "Band 5: 1.0609943018042145\n",
      "Band 6: 0.9458786447184454\n",
      "Band 7: 0.9007575752660638\n",
      "Band 8: 1.3031628546422949\n",
      "Band 9: 1.445970696027381\n",
      "Band 10: 0.9115136201447281\n",
      "Band 11: 0.8405468876852087\n",
      "Band 12: 0.8996895316714049\n",
      "Band 13: 0.9407342961613152\n",
      "Band 14: 0.8765004393847825\n",
      "Band 15: 0.9661322690428629\n",
      "Band 16: 0.8792624584062956\n",
      "Band 17: 0.8669363708065428\n",
      "Band 18: 0.9669615627864948\n",
      "Band 19: 0.8468630769758615\n",
      "Band 20: 0.9480435601311479\n",
      "Band 21: 0.9505763041444075\n",
      "Band 22: 0.984572180713141\n"
     ]
    }
   ],
   "source": [
    "# band importances\n",
    "\n",
    "# function for variable importance\n",
    "def vip(model):\n",
    "    t = model.x_scores_\n",
    "    w = model.x_weights_\n",
    "    q = model.y_loadings_\n",
    "    p, h = w.shape\n",
    "    vips = np.zeros((p,))\n",
    "    s = np.diag(t.T @ t @ q.T @ q).reshape(h, -1)\n",
    "    total_s = np.sum(s)\n",
    "    for i in range(p):\n",
    "        weight = np.array([ (w[i,j] / np.linalg.norm(w[:,j]))**2 for j in range(h) ])\n",
    "        vips[i] = np.sqrt(p*(s.T @ weight)/total_s)\n",
    "    return vips\n",
    "\n",
    "importance = vip(plsr)\n",
    "\n",
    "\n",
    "imp = {}\n",
    "for i in range(features.shape[1]):\n",
    "    print('Band {}: {}'.format(i+1, importance[i]))\n",
    "    imp['Band{}'.format(i+1)] = importance[i]"
   ]
  },
  {
   "cell_type": "code",
   "execution_count": 17,
   "metadata": {},
   "outputs": [
    {
     "data": {
      "text/plain": [
       "{'Band9': 1.445970696027381,\n",
       " 'Band3': 1.4006620290258422,\n",
       " 'Band8': 1.3031628546422949,\n",
       " 'Band5': 1.0609943018042145,\n",
       " 'Band4': 1.0196984541338066,\n",
       " 'Band22': 0.984572180713141,\n",
       " 'Band18': 0.9669615627864948,\n",
       " 'Band15': 0.9661322690428629,\n",
       " 'Band21': 0.9505763041444075,\n",
       " 'Band20': 0.9480435601311479,\n",
       " 'Band6': 0.9458786447184454,\n",
       " 'Band13': 0.9407342961613152,\n",
       " 'Band10': 0.9115136201447281,\n",
       " 'Band7': 0.9007575752660638,\n",
       " 'Band12': 0.8996895316714049,\n",
       " 'Band1': 0.888578412215833,\n",
       " 'Band16': 0.8792624584062956,\n",
       " 'Band14': 0.8765004393847825,\n",
       " 'Band17': 0.8669363708065428,\n",
       " 'Band19': 0.8468630769758615,\n",
       " 'Band11': 0.8405468876852087,\n",
       " 'Band2': 0.8401577124279724}"
      ]
     },
     "execution_count": 17,
     "metadata": {},
     "output_type": "execute_result"
    }
   ],
   "source": [
    "sorted_imp = dict(sorted(imp.items(), key=itemgetter(1), reverse=True))\n",
    "sorted_imp "
   ]
  },
  {
   "cell_type": "code",
   "execution_count": 19,
   "metadata": {},
   "outputs": [],
   "source": [
    "# predict test data\n",
    "predictions_test_ds = plsr.predict(test_features)\n"
   ]
  },
  {
   "cell_type": "code",
   "execution_count": 20,
   "metadata": {},
   "outputs": [
    {
     "name": "stdout",
     "output_type": "stream",
     "text": [
      "-------------\n",
      "n of the test data: 25\n",
      "Mean of the variable: 72.99\n",
      "Standard deviation of the variable: 3.83\n",
      "-------------\n",
      "Mean Absolute Error: 3.44\n",
      "Mean squared error: 12.34\n",
      "RMSE: 3.51\n",
      "mean absolute percentage error (MAPE) / Accuracy: 95.33 %.\n",
      "-------------\n",
      "Coefficient of determination r²: 0.04\n"
     ]
    }
   ],
   "source": [
    "# Calculate the absolute errors\n",
    "errors = abs(predictions_test_ds - test_labels)\n",
    "# Print out the mean absolute error (mae)\n",
    "\n",
    "# Print out the mean absolute error (mae)\n",
    "\n",
    "\n",
    "print('-------------')\n",
    "print('n of the test data: {}'.format(len(test_labels)))\n",
    "print('Mean of the variable: {:.2f}'.format(np.mean(labels)))\n",
    "print('Standard deviation of the variable: {:.2f}'.format(np.std(labels)))\n",
    "print('-------------')\n",
    "print('Mean Absolute Error: {:.2f}'.format(np.mean(errors)))\n",
    "\n",
    "mse = mean_squared_error(test_labels, predictions_test_ds)\n",
    "print('Mean squared error: {:.2f}'.format(mse))\n",
    "print('RMSE: {:.2f}'.format(np.sqrt(mse)))\n",
    "\n",
    "'''\n",
    "To put our predictions in perspective, we can calculate an accuracy using\n",
    "the mean average percentage error subtracted from 100 %.\n",
    "'''\n",
    "\n",
    "# Calculate mean absolute percentage error (MAPE)\n",
    "mape = 100 * (errors / test_labels)\n",
    "# Calculate and display accuracy\n",
    "accuracy = 100 - np.mean(mape)\n",
    "print('mean absolute percentage error (MAPE) / Accuracy: {:.2f}'.format(accuracy), '%.')\n",
    "print('-------------')\n",
    "# The coefficient of determination: 1 is perfect prediction\n",
    "print('Coefficient of determination r²: {:.2f}'.format(r2_score(test_labels, predictions_test_ds)))\n",
    "\n"
   ]
  },
  {
   "cell_type": "code",
   "execution_count": 21,
   "metadata": {},
   "outputs": [
    {
     "data": {
      "image/png": "[encoded data removed]",
      "text/plain": [
       "<Figure size 432x288 with 1 Axes>"
      ]
     },
     "metadata": {
      "needs_background": "light"
     },
     "output_type": "display_data"
    }
   ],
   "source": [
    "fig, ax = plt.subplots()\n",
    "ax.scatter(test_labels, predictions_test_ds)\n",
    "ax.plot([test_labels.min(), test_labels.max()], [test_labels.min(), test_labels.max()], 'k--', lw=1)\n",
    "ax.set_xlabel('Measured')\n",
    "ax.set_ylabel('Predicted')\n",
    "\n",
    "plt.show()"
   ]
  },
  {
   "cell_type": "code",
   "execution_count": 22,
   "metadata": {},
   "outputs": [
    {
     "name": "stdout",
     "output_type": "stream",
     "text": [
      "Reshaped from (201, 361, 22) to (72561, 22)\n"
     ]
    }
   ],
   "source": [
    "# Predicting the rest of the image\n",
    "\n",
    "# Take our full image and reshape into long 2d array (nrow * ncol, nband) for classification\n",
    "new_shape = (img.shape[0] * img.shape[1], img.shape[2])\n",
    "img_as_array = img[:, :, :].reshape(new_shape)\n",
    "\n",
    "print('Reshaped from {o} to {n}'.format(o=img.shape, n=img_as_array.shape))\n",
    "\n",
    "img_as_array = np.nan_to_num(img_as_array)"
   ]
  },
  {
   "cell_type": "code",
   "execution_count": 23,
   "metadata": {},
   "outputs": [],
   "source": [
    "prediction_ = plsr.predict(img_as_array)"
   ]
  },
  {
   "cell_type": "code",
   "execution_count": 24,
   "metadata": {},
   "outputs": [
    {
     "name": "stdout",
     "output_type": "stream",
     "text": [
      "Reshaped back to (201, 361)\n"
     ]
    }
   ],
   "source": [
    "prediction = prediction_.reshape(img[:, :, 0].shape)\n",
    "print('Reshaped back to {}'.format(prediction.shape))"
   ]
  },
  {
   "cell_type": "code",
   "execution_count": 25,
   "metadata": {},
   "outputs": [
    {
     "data": {
      "text/plain": [
       "<matplotlib.image.AxesImage at 0x191c3a5de20>"
      ]
     },
     "execution_count": 25,
     "metadata": {},
     "output_type": "execute_result"
    },
    {
     "data": {
      "image/png": "[encoded data removed]",
      "text/plain": [
       "<Figure size 432x288 with 1 Axes>"
      ]
     },
     "metadata": {
      "needs_background": "light"
     },
     "output_type": "display_data"
    }
   ],
   "source": [
    "# generate mask image from red band\n",
    "mask = np.copy(img[:,:,0])\n",
    "mask[mask > 0.0] = 1.0 # all actual pixels have a value of 1.0\n",
    "\n",
    "# plot mask\n",
    "\n",
    "plt.imshow(mask)"
   ]
  },
  {
   "cell_type": "code",
   "execution_count": 23,
   "metadata": {},
   "outputs": [],
   "source": [
    "# mask classification an plot\n",
    "\n",
    "\n",
    "prediction = prediction*mask\n",
    "\n"
   ]
  },
  {
   "cell_type": "code",
   "execution_count": 25,
   "metadata": {},
   "outputs": [
    {
     "name": "stdout",
     "output_type": "stream",
     "text": [
      "Image saved to: N:\\Daten_GG\\projekte\\PFIFFikus (EFRE) - 74120125\\Bilder\\2020_06_05_Bliesekow_EP1\\GIS\\Ergebnis\\B1W_SPAD_PLSR.tif\n"
     ]
    }
   ],
   "source": [
    "# Save regression\n",
    "\n",
    "cols = img.shape[1]\n",
    "rows = img.shape[0]\n",
    "\n",
    "prediction.astype(np.float32)\n",
    "\n",
    "driver = gdal.GetDriverByName(\"gtiff\")\n",
    "outdata = driver.Create(prediction_map, cols, rows, 1, gdal.GDT_Float32)\n",
    "outdata.SetGeoTransform(img_ds.GetGeoTransform())##sets same geotransform as input\n",
    "outdata.SetProjection(img_ds.GetProjection())##sets same projection as input\n",
    "outdata.GetRasterBand(1).WriteArray(prediction)\n",
    "outdata.FlushCache() ##saves to disk!!\n",
    "print('Image saved to: {}'.format(prediction_map))"
   ]
  },
  {
   "cell_type": "code",
   "execution_count": 25,
   "metadata": {},
   "outputs": [
    {
     "data": {
      "image/png": "[encoded data removed]",
      "text/plain": [
       "<Figure size 432x288 with 2 Axes>"
      ]
     },
     "metadata": {
      "needs_background": "light"
     },
     "output_type": "display_data"
    }
   ],
   "source": [
    "# Display images\n",
    "plt.subplot(121)\n",
    "plt.imshow(img[:, :, 0], cmap=plt.cm.Greys_r)\n",
    "plt.title('RS image - first band')\n",
    "\n",
    "plt.subplot(122)\n",
    "plt.imshow(prediction, cmap=plt.cm.Spectral)\n",
    "plt.title('Prediction')\n",
    "\n",
    "plt.show()"
   ]
  },
  {
   "cell_type": "code",
   "execution_count": 26,
   "metadata": {},
   "outputs": [],
   "source": [
    "pla = 0.0599 * np.exp(0.0493*prediction)\n",
    "pla = pla*mask\n",
    "\n",
    "\n",
    "pla_path = 'N:\\\\Daten_GG\\\\projekte\\\\PFIFFikus (EFRE) - 74120125\\\\Bilder\\\\2020_06_05_Bliesekow_EP1\\\\GIS\\\\Ergebnis\\\\B1W_PLA_PLSR.tif'"
   ]
  },
  {
   "cell_type": "code",
   "execution_count": 27,
   "metadata": {},
   "outputs": [
    {
     "name": "stdout",
     "output_type": "stream",
     "text": [
      "Image saved to: N:\\Daten_GG\\projekte\\PFIFFikus (EFRE) - 74120125\\Bilder\\2020_06_05_Bliesekow_EP1\\GIS\\Ergebnis\\B1W_PLA_PLSR.tif\n"
     ]
    }
   ],
   "source": [
    "# Save regression\n",
    "\n",
    "cols = img.shape[1]\n",
    "rows = img.shape[0]\n",
    "\n",
    "driver = gdal.GetDriverByName(\"gtiff\")\n",
    "outdata = driver.Create(pla_path, cols, rows, 1, gdal.GDT_Float32)\n",
    "outdata.SetGeoTransform(img_ds.GetGeoTransform())##sets same geotransform as input\n",
    "outdata.SetProjection(img_ds.GetProjection())##sets same projection as input\n",
    "outdata.GetRasterBand(1).WriteArray(pla)\n",
    "outdata.FlushCache() ##saves to disk!!\n",
    "print('Image saved to: {}'.format(pla_path))\n"
   ]
  },
  {
   "cell_type": "code",
   "execution_count": 28,
   "metadata": {},
   "outputs": [],
   "source": [
    "lfw = 0.305 * np.exp(0.0545*prediction)\n",
    "lfw = lfw*mask\n",
    "\n",
    "lfw_path = 'N:\\\\Daten_GG\\\\projekte\\\\PFIFFikus (EFRE) - 74120125\\\\Bilder\\\\2020_06_05_Bliesekow_EP1\\\\GIS\\\\Ergebnis\\\\B1W_LFW_PLSR.tif'"
   ]
  },
  {
   "cell_type": "code",
   "execution_count": 29,
   "metadata": {},
   "outputs": [
    {
     "name": "stdout",
     "output_type": "stream",
     "text": [
      "Image saved to: N:\\Daten_GG\\projekte\\PFIFFikus (EFRE) - 74120125\\Bilder\\2020_06_05_Bliesekow_EP1\\GIS\\Ergebnis\\B1W_LFW_PLSR.tif\n"
     ]
    }
   ],
   "source": [
    "# Save regression\n",
    "\n",
    "cols = img.shape[1]\n",
    "rows = img.shape[0]\n",
    "\n",
    "driver = gdal.GetDriverByName(\"gtiff\")\n",
    "outdata = driver.Create(lfw_path, cols, rows, 1, gdal.GDT_Float32)\n",
    "outdata.SetGeoTransform(img_ds.GetGeoTransform())##sets same geotransform as input\n",
    "outdata.SetProjection(img_ds.GetProjection())##sets same projection as input\n",
    "outdata.GetRasterBand(1).WriteArray(lfw)\n",
    "outdata.FlushCache() ##saves to disk!!\n",
    "print('Image saved to: {}'.format(lfw_path))"
   ]
  },
  {
   "cell_type": "code",
   "execution_count": 33,
   "metadata": {},
   "outputs": [
    {
     "name": "stdout",
     "output_type": "stream",
     "text": [
      "BSNC_richtig: -369.85398942157417\n",
      "PNC richtig: 1.016753469944871\n",
      "PNA richtig: 14.94105470936657\n"
     ]
    }
   ],
   "source": [
    "testi= 30\n",
    "\n",
    "\n",
    "\n",
    "print('BSNC_richtig: {}'.format(1669.54-1.72117*np.sqrt(3.14696*10**6 - 58100*testi)))\n",
    "\n",
    "\n",
    "\n",
    "print('PNC richtig: {}'.format(4.00987-0.000266738*np.sqrt(2.38385*10**8-3.749*10**6*testi)))\n",
    "\n",
    "\n",
    "print('PNA richtig: {}'.format(1.81599*np.exp(0.0702494*testi)))"
   ]
  },
  {
   "cell_type": "code",
   "execution_count": 24,
   "metadata": {},
   "outputs": [
    {
     "name": "stderr",
     "output_type": "stream",
     "text": [
      "<ipython-input-24-200cac87e096>:1: RuntimeWarning: invalid value encountered in sqrt\n",
      "  bsnc = 1669.54-1.72117*np.sqrt(3.14696*10**6 - 58100*prediction)\n"
     ]
    }
   ],
   "source": [
    "bsnc = 1669.54-1.72117*np.sqrt(3.14696*10**6 - 58100*prediction)\n",
    "bsnc = bsnc*mask\n",
    "\n",
    "bsnc_path = 'N:\\\\Daten_GG\\\\projekte\\\\PFIFFikus (EFRE) - 74120125\\\\Bilder\\\\2020_06_05_Bliesekow_EP1\\\\GIS\\\\Ergebnis\\\\B1W_BSNC_PLSR.tif'"
   ]
  },
  {
   "cell_type": "code",
   "execution_count": 25,
   "metadata": {},
   "outputs": [
    {
     "name": "stdout",
     "output_type": "stream",
     "text": [
      "Image saved to: N:\\Daten_GG\\projekte\\PFIFFikus (EFRE) - 74120125\\Bilder\\2020_06_05_Bliesekow_EP1\\GIS\\Ergebnis\\B1W_BSNC_PLSR.tif\n"
     ]
    }
   ],
   "source": [
    "# Save regression\n",
    "\n",
    "cols = img.shape[1]\n",
    "rows = img.shape[0]\n",
    "\n",
    "driver = gdal.GetDriverByName(\"gtiff\")\n",
    "outdata = driver.Create(bsnc_path, cols, rows, 1, gdal.GDT_Float32)\n",
    "outdata.SetGeoTransform(img_ds.GetGeoTransform())##sets same geotransform as input\n",
    "outdata.SetProjection(img_ds.GetProjection())##sets same projection as input\n",
    "outdata.GetRasterBand(1).WriteArray(bsnc)\n",
    "outdata.FlushCache() ##saves to disk!!\n",
    "print('Image saved to: {}'.format(bsnc_path))"
   ]
  },
  {
   "cell_type": "code",
   "execution_count": 26,
   "metadata": {},
   "outputs": [
    {
     "name": "stderr",
     "output_type": "stream",
     "text": [
      "<ipython-input-26-fdafdfa944f3>:1: RuntimeWarning: invalid value encountered in sqrt\n",
      "  pnc = 4.00987-0.000266738*np.sqrt(2.38385*10**8-3.749*10**6*prediction)\n"
     ]
    }
   ],
   "source": [
    "pnc = 4.00987-0.000266738*np.sqrt(2.38385*10**8-3.749*10**6*prediction)\n",
    "pnc = pnc*mask\n",
    "\n",
    "pnc_path = 'N:\\\\Daten_GG\\\\projekte\\\\PFIFFikus (EFRE) - 74120125\\\\Bilder\\\\2020_06_05_Bliesekow_EP1\\\\GIS\\\\Ergebnis\\\\B1W_PNC_PLSR.tif'"
   ]
  },
  {
   "cell_type": "code",
   "execution_count": 30,
   "metadata": {},
   "outputs": [
    {
     "name": "stdout",
     "output_type": "stream",
     "text": [
      "Image saved to: N:\\Daten_GG\\projekte\\PFIFFikus (EFRE) - 74120125\\Bilder\\2020_06_05_Bliesekow_EP1\\GIS\\Ergebnis\\B1W_PNC_PLSR.tif\n"
     ]
    }
   ],
   "source": [
    "# Save regression\n",
    "\n",
    "cols = img.shape[1]\n",
    "rows = img.shape[0]\n",
    "\n",
    "driver = gdal.GetDriverByName(\"gtiff\")\n",
    "outdata = driver.Create(pnc_path, cols, rows, 1, gdal.GDT_Float32)\n",
    "outdata.SetGeoTransform(img_ds.GetGeoTransform())##sets same geotransform as input\n",
    "outdata.SetProjection(img_ds.GetProjection())##sets same projection as input\n",
    "outdata.GetRasterBand(1).WriteArray(pnc)\n",
    "outdata.FlushCache() ##saves to disk!!\n",
    "print('Image saved to: {}'.format(pnc_path))"
   ]
  },
  {
   "cell_type": "code",
   "execution_count": null,
   "metadata": {},
   "outputs": [],
   "source": [
    "1.81599*np.exp(0.0702494*testi)"
   ]
  },
  {
   "cell_type": "code",
   "execution_count": 28,
   "metadata": {},
   "outputs": [
    {
     "name": "stderr",
     "output_type": "stream",
     "text": [
      "<ipython-input-28-2870334f7153>:1: RuntimeWarning: invalid value encountered in sqrt\n",
      "  pna = 4.00987-0.000266738*np.sqrt(2.38385*10**8-3.749*10**6*prediction)\n"
     ]
    }
   ],
   "source": [
    "pna = 4.00987-0.000266738*np.sqrt(2.38385*10**8-3.749*10**6*prediction)\n",
    "pna = pna*mask\n",
    "\n",
    "pna_path = 'N:\\\\Daten_GG\\\\projekte\\\\PFIFFikus (EFRE) - 74120125\\\\Bilder\\\\2020_06_05_Bliesekow_EP1\\\\GIS\\\\Ergebnis\\\\B1W_PNA_PLSR.tif'"
   ]
  },
  {
   "cell_type": "code",
   "execution_count": 29,
   "metadata": {},
   "outputs": [
    {
     "name": "stdout",
     "output_type": "stream",
     "text": [
      "Image saved to: N:\\Daten_GG\\projekte\\PFIFFikus (EFRE) - 74120125\\Bilder\\2020_06_05_Bliesekow_EP1\\GIS\\Ergebnis\\B1W_PNA_PLSR.tif\n"
     ]
    }
   ],
   "source": [
    "# Save regression\n",
    "\n",
    "cols = img.shape[1]\n",
    "rows = img.shape[0]\n",
    "\n",
    "driver = gdal.GetDriverByName(\"gtiff\")\n",
    "outdata = driver.Create(pna_path, cols, rows, 1, gdal.GDT_Float32)\n",
    "outdata.SetGeoTransform(img_ds.GetGeoTransform())##sets same geotransform as input\n",
    "outdata.SetProjection(img_ds.GetProjection())##sets same projection as input\n",
    "outdata.GetRasterBand(1).WriteArray(pna)\n",
    "outdata.FlushCache() ##saves to disk!!\n",
    "print('Image saved to: {}'.format(pna_path))"
   ]
  },
  {
   "cell_type": "code",
   "execution_count": null,
   "metadata": {},
   "outputs": [],
   "source": []
  }
 ],
 "metadata": {
  "kernelspec": {
   "display_name": "Python 3",
   "language": "python",
   "name": "python3"
  },
  "language_info": {
   "codemirror_mode": {
    "name": "ipython",
    "version": 3
   },
   "file_extension": ".py",
   "mimetype": "text/x-python",
   "name": "python",
   "nbconvert_exporter": "python",
   "pygments_lexer": "ipython3",
   "version": "3.8.2"
  }
 },
 "nbformat": 4,
 "nbformat_minor": 4
}
