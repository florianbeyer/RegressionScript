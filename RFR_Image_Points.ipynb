{
 "cells": [
  {
   "cell_type": "markdown",
   "metadata": {},
   "source": [
    "# Regression Script\n",
    "## Random Forest for Remote Sensing Data\n",
    "\n",
    "### Florian Beyer\n",
    "\n",
    "2020-02-21"
   ]
  },
  {
   "cell_type": "code",
   "execution_count": 3,
   "metadata": {},
   "outputs": [],
   "source": [
    "# Requried Packages\n",
    "from osgeo import gdal, ogr, gdal_array # I/O image data\n",
    "import numpy as np # math and array handling\n",
    "import matplotlib.pyplot as plt # plot figures\n",
    "import pandas as pd # handling large data as table sheets\n",
    "\n",
    "from sklearn.ensemble import RandomForestRegressor\n",
    "#from sklearn.ensemble import AdaBoostRegressor\n",
    "#from sklearn import svm\n",
    "#from sklearn.kernel_ridge import KernelRidge\n",
    "#from sklearn.model_selection import GridSearchCV\n",
    "#from sklearn.cross_decomposition import PLSRegression\n",
    "#from sklearn.gaussian_process import GaussianProcessRegressor\n",
    "\n",
    "from joblib import dump, load\n",
    "\n",
    "# Tell GDAL to throw Python exceptions, and register all drivers\n",
    "gdal.UseExceptions()\n",
    "gdal.AllRegister()\n",
    "\n"
   ]
  },
  {
   "cell_type": "code",
   "execution_count": 4,
   "metadata": {},
   "outputs": [],
   "source": [
    "# data input\n",
    "\n",
    "# define a number of trees that should be used (default = 500)\n",
    "est = 500\n",
    "\n",
    "# the remote sensing image you want to classify\n",
    "img_RS = 'D:\\\\OwnCloud\\\\WetScapes\\\\2020_02_21_Regression_Biomass\\\\Daten\\\\stack_all_data_tif.tif'\n",
    "\n",
    "# training and validation\n",
    "#    as image in the same extand as your remote sensing image\n",
    "#    no data pixels = 0 or negative\n",
    "#    class pixels > 0 and as integer\n",
    "field = 'D:\\\\OwnCloud\\\\WetScapes\\\\2020_02_21_Regression_Biomass\\\\Daten\\\\biomasse_all.shp'\n",
    "\n",
    "\n",
    "# what is the attributes name of your classes in the shape file (field name of the classes)?\n",
    "attribute = 'FM_in_Gram'\n",
    "\n",
    "\n",
    "# save path, predicted image\n",
    "prediction_map = 'D:\\\\OwnCloud\\\\WetScapes\\\\2020_02_21_Regression_Biomass\\\\Results\\\\prediction_map.tif'\n",
    "\n",
    "\n",
    "# save path, trained model\n",
    "save_model = 'D:\\\\OwnCloud\\\\WetScapes\\\\2020_02_21_Regression_Biomass\\\\Results\\\\RFR.joblib'\n"
   ]
  },
  {
   "cell_type": "code",
   "execution_count": 5,
   "metadata": {},
   "outputs": [],
   "source": [
    "# Data preparation\n",
    "\n",
    "# load image data\n",
    "\n",
    "img_ds = gdal.Open(img_RS, gdal.GA_ReadOnly)\n",
    "\n",
    "img = np.zeros((img_ds.RasterYSize, img_ds.RasterXSize, img_ds.RasterCount),\n",
    "               gdal_array.GDALTypeCodeToNumericTypeCode(img_ds.GetRasterBand(1).DataType))\n",
    "for b in range(img.shape[2]):\n",
    "    img[:, :, b] = img_ds.GetRasterBand(b + 1).ReadAsArray()"
   ]
  },
  {
   "cell_type": "code",
   "execution_count": 6,
   "metadata": {},
   "outputs": [],
   "source": [
    "# Data preparation\n",
    "# load training data from shape file\n",
    "\n",
    "#model_dataset = gdal.Open(model_raster_fname)\n",
    "shape_dataset = ogr.Open(field)\n",
    "shape_layer = shape_dataset.GetLayer()\n",
    "mem_drv = gdal.GetDriverByName('MEM')\n",
    "mem_raster = mem_drv.Create('',img_ds.RasterXSize,img_ds.RasterYSize,1,gdal.GDT_UInt16)\n",
    "mem_raster.SetProjection(img_ds.GetProjection())\n",
    "mem_raster.SetGeoTransform(img_ds.GetGeoTransform())\n",
    "mem_band = mem_raster.GetRasterBand(1)\n",
    "mem_band.Fill(0)\n",
    "mem_band.SetNoDataValue(0)\n",
    "\n",
    "att_ = 'ATTRIBUTE='+attribute\n",
    "# http://gdal.org/gdal__alg_8h.html#adfe5e5d287d6c184aab03acbfa567cb1\n",
    "# http://gis.stackexchange.com/questions/31568/gdal-rasterizelayer-doesnt-burn-all-polygons-to-raster\n",
    "err = gdal.RasterizeLayer(mem_raster, [1], shape_layer, None, None, [1],  [att_,\"ALL_TOUCHED=TRUE\"])\n",
    "assert err == gdal.CE_None\n",
    "\n",
    "roi = mem_raster.ReadAsArray()\n"
   ]
  },
  {
   "cell_type": "code",
   "execution_count": 7,
   "metadata": {},
   "outputs": [
    {
     "data": {
      "image/png": "[encoded data removed]",
      "text/plain": [
       "<Figure size 432x288 with 2 Axes>"
      ]
     },
     "metadata": {
      "needs_background": "light"
     },
     "output_type": "display_data"
    }
   ],
   "source": [
    "# Display image and Training data\n",
    "\n",
    "plt.subplot(121)\n",
    "plt.imshow(img[:, :, 0], cmap=plt.cm.Greys_r)\n",
    "plt.title('RS image - first band')\n",
    "\n",
    "plt.subplot(122)\n",
    "plt.imshow(roi, cmap=plt.cm.Spectral)\n",
    "plt.title('Training Image')\n",
    "\n",
    "plt.show()\n"
   ]
  },
  {
   "cell_type": "code",
   "execution_count": 8,
   "metadata": {},
   "outputs": [
    {
     "name": "stdout",
     "output_type": "stream",
     "text": [
      "We have 25 training samples\n"
     ]
    }
   ],
   "source": [
    "# Number of training pixels:\n",
    "n_samples = (roi > 0).sum()\n",
    "print('We have {n} training samples'.format(n=n_samples))"
   ]
  },
  {
   "cell_type": "code",
   "execution_count": 9,
   "metadata": {},
   "outputs": [],
   "source": [
    "# Subset the image dataset with the training image = X\n",
    "# Mask the classes on the training dataset = y\n",
    "# These will have n_samples rows\n",
    "X = img[roi > 0, :]\n",
    "y = roi[roi > 0]\n"
   ]
  },
  {
   "cell_type": "code",
   "execution_count": 10,
   "metadata": {},
   "outputs": [
    {
     "name": "stdout",
     "output_type": "stream",
     "text": [
      "Our X matrix is sized: (25, 19)\n",
      "Our y array is sized: (25,)\n"
     ]
    }
   ],
   "source": [
    "print('Our X matrix is sized: {sz}'.format(sz=X.shape))\n",
    "print('Our y array is sized: {sz}'.format(sz=y.shape))"
   ]
  },
  {
   "cell_type": "code",
   "execution_count": 11,
   "metadata": {},
   "outputs": [
    {
     "data": {
      "text/plain": [
       "RandomForestRegressor(bootstrap=True, criterion='mse', max_depth=None,\n",
       "                      max_features='auto', max_leaf_nodes=None,\n",
       "                      min_impurity_decrease=0.0, min_impurity_split=None,\n",
       "                      min_samples_leaf=1, min_samples_split=2,\n",
       "                      min_weight_fraction_leaf=0.0, n_estimators=500, n_jobs=-1,\n",
       "                      oob_score=True, random_state=0, verbose=0,\n",
       "                      warm_start=False)"
      ]
     },
     "execution_count": 11,
     "metadata": {},
     "output_type": "execute_result"
    }
   ],
   "source": [
    "RFR = RandomForestRegressor(bootstrap=True,\n",
    "                             criterion='mse',\n",
    "                             max_depth=None,\n",
    "                             max_features='auto',\n",
    "                             max_leaf_nodes=None,\n",
    "                             min_impurity_decrease=0.0,\n",
    "                             min_impurity_split=None,\n",
    "                             min_samples_leaf=1,\n",
    "                             min_samples_split=2,\n",
    "                             min_weight_fraction_leaf=0.0,\n",
    "                             n_estimators=500,\n",
    "                             n_jobs=-1, # using all cores\n",
    "                             oob_score=True,\n",
    "                             random_state=0,\n",
    "                             verbose=0,\n",
    "                             warm_start=False)\n",
    "RFR.fit(X,y)\n"
   ]
  },
  {
   "cell_type": "code",
   "execution_count": 12,
   "metadata": {},
   "outputs": [
    {
     "data": {
      "text/plain": [
       "0.9088030031997921"
      ]
     },
     "execution_count": 12,
     "metadata": {},
     "output_type": "execute_result"
    }
   ],
   "source": [
    "# Regression R^2 -> coefficient of determination\n",
    "RFR.score(X,y)"
   ]
  },
  {
   "cell_type": "code",
   "execution_count": 13,
   "metadata": {},
   "outputs": [
    {
     "data": {
      "text/plain": [
       "['D:\\\\OwnCloud\\\\WetScapes\\\\2020_02_21_Regression_Biomass\\\\Results\\\\RFR.joblib']"
      ]
     },
     "execution_count": 13,
     "metadata": {},
     "output_type": "execute_result"
    }
   ],
   "source": [
    "# save the regression model to disk\n",
    "\n",
    "# Save\n",
    "dump(RFR, save_model)\n",
    "\n",
    "# load model:\n",
    "#RFR = load(save_model)"
   ]
  },
  {
   "cell_type": "code",
   "execution_count": null,
   "metadata": {},
   "outputs": [],
   "source": []
  },
  {
   "cell_type": "code",
   "execution_count": 14,
   "metadata": {},
   "outputs": [
    {
     "name": "stdout",
     "output_type": "stream",
     "text": [
      "[119.68253968 155.45977011 168.35294118 157.95698925 163.\n",
      " 255.34090909 409.49238579 379.88095238 342.72727273 363.90374332\n",
      " 420.58510638 331.66666667 288.40206186 159.74522293 186.30681818\n",
      " 129.23976608 154.         131.39664804 151.22093023 187.78350515\n",
      " 244.52631579 282.06451613 591.8452381  505.87209302 431.71122995]\n"
     ]
    }
   ],
   "source": [
    "#print(RFR.estimators_)\n",
    "#print(RFR.feature_importances_)\n",
    "#print(RFR.n_features_)\n",
    "#print(RFR.n_outputs_)\n",
    "#print(RFR.oob_score_)\n",
    "print(RFR.oob_prediction_)"
   ]
  },
  {
   "cell_type": "code",
   "execution_count": 15,
   "metadata": {},
   "outputs": [
    {
     "name": "stdout",
     "output_type": "stream",
     "text": [
      "[119.68253968 155.45977011 168.35294118 157.95698925 163.\n",
      " 255.34090909 409.49238579 379.88095238 342.72727273 363.90374332\n",
      " 420.58510638 331.66666667 288.40206186 159.74522293 186.30681818\n",
      " 129.23976608 154.         131.39664804 151.22093023 187.78350515\n",
      " 244.52631579 282.06451613 591.8452381  505.87209302 431.71122995]\n",
      "[160.0, 150.0, 70.0, 180.0, 270.0, 380.0, 250.0, 320.0, 790.0, 270.0, 510.0, 230.0, 140.0, 140.0, 180.0, 160.0, 150.0, 190.0, 130.0, 170.0, 330.0, 420.0, 380.0, 610.0, 250.0]\n"
     ]
    },
    {
     "data": {
      "image/png": "[encoded data removed]",
      "text/plain": [
       "<Figure size 432x288 with 1 Axes>"
      ]
     },
     "metadata": {
      "needs_background": "light"
     },
     "output_type": "display_data"
    }
   ],
   "source": [
    "pred1 = np.array(RFR.oob_prediction_)\n",
    "obs = np.array(y)\n",
    "obs = [np.float(i) for i in obs]\n",
    "\n",
    "print(pred1)\n",
    "print(obs)\n",
    "fig,ax = plt.subplots()\n",
    "ax.scatter(obs,pred1)\n",
    "plt.show()"
   ]
  },
  {
   "cell_type": "code",
   "execution_count": 16,
   "metadata": {},
   "outputs": [
    {
     "name": "stdout",
     "output_type": "stream",
     "text": [
      "[0.03076302 0.03309292 0.02191851 0.13730636 0.00691975 0.00954047\n",
      " 0.01170407 0.06915878 0.16076827 0.00762218 0.00793526 0.0293753\n",
      " 0.15360157 0.0169815  0.035099   0.0573158  0.04268409 0.14783471\n",
      " 0.02037845]\n"
     ]
    }
   ],
   "source": [
    "print(RFR.feature_importances_)"
   ]
  },
  {
   "cell_type": "code",
   "execution_count": 17,
   "metadata": {},
   "outputs": [
    {
     "name": "stdout",
     "output_type": "stream",
     "text": [
      "Reshaped from (458, 83, 19) to (38014, 19)\n"
     ]
    }
   ],
   "source": [
    "# Predicting the rest of the image\n",
    "\n",
    "# Take our full image and reshape into long 2d array (nrow * ncol, nband) for classification\n",
    "new_shape = (img.shape[0] * img.shape[1], img.shape[2])\n",
    "img_as_array = img[:, :, :].reshape(new_shape)\n",
    "\n",
    "print('Reshaped from {o} to {n}'.format(o=img.shape, n=img_as_array.shape))\n",
    "\n",
    "img_as_array = np.nan_to_num(img_as_array)"
   ]
  },
  {
   "cell_type": "code",
   "execution_count": 18,
   "metadata": {},
   "outputs": [],
   "source": [
    "prediction_ = RFR.predict(img_as_array)"
   ]
  },
  {
   "cell_type": "code",
   "execution_count": 19,
   "metadata": {},
   "outputs": [
    {
     "name": "stdout",
     "output_type": "stream",
     "text": [
      "Reshaped back to (458, 83)\n"
     ]
    }
   ],
   "source": [
    "prediction = prediction_.reshape(img[:, :, 0].shape)\n",
    "print('Reshaped back to {}'.format(prediction.shape))"
   ]
  },
  {
   "cell_type": "code",
   "execution_count": 20,
   "metadata": {},
   "outputs": [
    {
     "name": "stdout",
     "output_type": "stream",
     "text": [
      "Image saved to: D:\\OwnCloud\\WetScapes\\2020_02_21_Regression_Biomass\\Results\\prediction_map.tif\n"
     ]
    }
   ],
   "source": [
    "cols = img.shape[1]\n",
    "rows = img.shape[0]\n",
    "\n",
    "prediction.astype(np.float16)\n",
    "\n",
    "driver = gdal.GetDriverByName(\"gtiff\")\n",
    "outdata = driver.Create(prediction_map, cols, rows, 1, gdal.GDT_UInt16)\n",
    "outdata.SetGeoTransform(img_ds.GetGeoTransform())##sets same geotransform as input\n",
    "outdata.SetProjection(img_ds.GetProjection())##sets same projection as input\n",
    "outdata.GetRasterBand(1).WriteArray(prediction)\n",
    "outdata.FlushCache() ##saves to disk!!\n",
    "print('Image saved to: {}'.format(prediction_map))"
   ]
  },
  {
   "cell_type": "code",
   "execution_count": null,
   "metadata": {},
   "outputs": [],
   "source": [
    "# "
   ]
  },
  {
   "cell_type": "code",
   "execution_count": null,
   "metadata": {},
   "outputs": [],
   "source": []
  },
  {
   "cell_type": "code",
   "execution_count": 26,
   "metadata": {},
   "outputs": [
    {
     "data": {
      "text/plain": [
       "(458, 83, 19)"
      ]
     },
     "execution_count": 26,
     "metadata": {},
     "output_type": "execute_result"
    }
   ],
   "source": [
    "img.shape"
   ]
  },
  {
   "cell_type": "code",
   "execution_count": 27,
   "metadata": {},
   "outputs": [
    {
     "data": {
      "text/plain": [
       "array([160, 150,  70, 180, 270, 380, 250, 320, 790, 270, 510, 230, 140,\n",
       "       140, 180, 160, 150, 190, 130, 170, 330, 420, 380, 610, 250],\n",
       "      dtype=uint16)"
      ]
     },
     "execution_count": 27,
     "metadata": {},
     "output_type": "execute_result"
    }
   ],
   "source": [
    "y"
   ]
  },
  {
   "cell_type": "code",
   "execution_count": 29,
   "metadata": {},
   "outputs": [
    {
     "data": {
      "text/plain": [
       "(25, 19)"
      ]
     },
     "execution_count": 29,
     "metadata": {},
     "output_type": "execute_result"
    }
   ],
   "source": [
    "X.shape"
   ]
  },
  {
   "cell_type": "code",
   "execution_count": 30,
   "metadata": {},
   "outputs": [],
   "source": [
    "features = pd.DataFrame(X)"
   ]
  },
  {
   "cell_type": "code",
   "execution_count": 31,
   "metadata": {},
   "outputs": [
    {
     "data": {
      "text/html": [
       "<div>\n",
       "<style scoped>\n",
       "    .dataframe tbody tr th:only-of-type {\n",
       "        vertical-align: middle;\n",
       "    }\n",
       "\n",
       "    .dataframe tbody tr th {\n",
       "        vertical-align: top;\n",
       "    }\n",
       "\n",
       "    .dataframe thead th {\n",
       "        text-align: right;\n",
       "    }\n",
       "</style>\n",
       "<table border=\"1\" class=\"dataframe\">\n",
       "  <thead>\n",
       "    <tr style=\"text-align: right;\">\n",
       "      <th></th>\n",
       "      <th>0</th>\n",
       "      <th>1</th>\n",
       "      <th>2</th>\n",
       "      <th>3</th>\n",
       "      <th>4</th>\n",
       "      <th>5</th>\n",
       "      <th>6</th>\n",
       "      <th>7</th>\n",
       "      <th>8</th>\n",
       "      <th>9</th>\n",
       "      <th>10</th>\n",
       "      <th>11</th>\n",
       "      <th>12</th>\n",
       "      <th>13</th>\n",
       "      <th>14</th>\n",
       "      <th>15</th>\n",
       "      <th>16</th>\n",
       "      <th>17</th>\n",
       "      <th>18</th>\n",
       "    </tr>\n",
       "  </thead>\n",
       "  <tbody>\n",
       "    <tr>\n",
       "      <th>0</th>\n",
       "      <td>129.0</td>\n",
       "      <td>113.0</td>\n",
       "      <td>80.0</td>\n",
       "      <td>4.806193</td>\n",
       "      <td>0.057959</td>\n",
       "      <td>0.071329</td>\n",
       "      <td>0.145246</td>\n",
       "      <td>0.186718</td>\n",
       "      <td>0.447160</td>\n",
       "      <td>181.0</td>\n",
       "      <td>170.0</td>\n",
       "      <td>130.0</td>\n",
       "      <td>4.678855</td>\n",
       "      <td>0.088964</td>\n",
       "      <td>0.101915</td>\n",
       "      <td>0.221553</td>\n",
       "      <td>0.261760</td>\n",
       "      <td>0.439525</td>\n",
       "      <td>0.127338</td>\n",
       "    </tr>\n",
       "    <tr>\n",
       "      <th>1</th>\n",
       "      <td>119.0</td>\n",
       "      <td>114.0</td>\n",
       "      <td>69.0</td>\n",
       "      <td>4.965296</td>\n",
       "      <td>0.054273</td>\n",
       "      <td>0.052538</td>\n",
       "      <td>0.145605</td>\n",
       "      <td>0.197211</td>\n",
       "      <td>0.579276</td>\n",
       "      <td>157.0</td>\n",
       "      <td>144.0</td>\n",
       "      <td>106.0</td>\n",
       "      <td>4.684095</td>\n",
       "      <td>0.106843</td>\n",
       "      <td>0.114630</td>\n",
       "      <td>0.236461</td>\n",
       "      <td>0.277434</td>\n",
       "      <td>0.415248</td>\n",
       "      <td>0.281201</td>\n",
       "    </tr>\n",
       "    <tr>\n",
       "      <th>2</th>\n",
       "      <td>136.0</td>\n",
       "      <td>118.0</td>\n",
       "      <td>83.0</td>\n",
       "      <td>4.754364</td>\n",
       "      <td>0.067470</td>\n",
       "      <td>0.079177</td>\n",
       "      <td>0.150295</td>\n",
       "      <td>0.184098</td>\n",
       "      <td>0.398524</td>\n",
       "      <td>199.0</td>\n",
       "      <td>199.0</td>\n",
       "      <td>161.0</td>\n",
       "      <td>4.567229</td>\n",
       "      <td>0.108079</td>\n",
       "      <td>0.130173</td>\n",
       "      <td>0.212995</td>\n",
       "      <td>0.240255</td>\n",
       "      <td>0.297173</td>\n",
       "      <td>0.189366</td>\n",
       "    </tr>\n",
       "    <tr>\n",
       "      <th>3</th>\n",
       "      <td>137.0</td>\n",
       "      <td>124.0</td>\n",
       "      <td>81.0</td>\n",
       "      <td>4.482555</td>\n",
       "      <td>0.060446</td>\n",
       "      <td>0.067874</td>\n",
       "      <td>0.163100</td>\n",
       "      <td>0.215910</td>\n",
       "      <td>0.521650</td>\n",
       "      <td>150.0</td>\n",
       "      <td>134.0</td>\n",
       "      <td>110.0</td>\n",
       "      <td>4.244701</td>\n",
       "      <td>0.080401</td>\n",
       "      <td>0.099191</td>\n",
       "      <td>0.165962</td>\n",
       "      <td>0.195841</td>\n",
       "      <td>0.327592</td>\n",
       "      <td>0.230469</td>\n",
       "    </tr>\n",
       "    <tr>\n",
       "      <th>4</th>\n",
       "      <td>141.0</td>\n",
       "      <td>139.0</td>\n",
       "      <td>88.0</td>\n",
       "      <td>3.828756</td>\n",
       "      <td>0.072505</td>\n",
       "      <td>0.065997</td>\n",
       "      <td>0.212558</td>\n",
       "      <td>0.272465</td>\n",
       "      <td>0.610018</td>\n",
       "      <td>183.0</td>\n",
       "      <td>173.0</td>\n",
       "      <td>139.0</td>\n",
       "      <td>3.538703</td>\n",
       "      <td>0.089225</td>\n",
       "      <td>0.101101</td>\n",
       "      <td>0.212972</td>\n",
       "      <td>0.253492</td>\n",
       "      <td>0.429764</td>\n",
       "      <td>0.290053</td>\n",
       "    </tr>\n",
       "  </tbody>\n",
       "</table>\n",
       "</div>"
      ],
      "text/plain": [
       "      0      1     2         3         4         5         6         7   \\\n",
       "0  129.0  113.0  80.0  4.806193  0.057959  0.071329  0.145246  0.186718   \n",
       "1  119.0  114.0  69.0  4.965296  0.054273  0.052538  0.145605  0.197211   \n",
       "2  136.0  118.0  83.0  4.754364  0.067470  0.079177  0.150295  0.184098   \n",
       "3  137.0  124.0  81.0  4.482555  0.060446  0.067874  0.163100  0.215910   \n",
       "4  141.0  139.0  88.0  3.828756  0.072505  0.065997  0.212558  0.272465   \n",
       "\n",
       "         8      9      10     11        12        13        14        15  \\\n",
       "0  0.447160  181.0  170.0  130.0  4.678855  0.088964  0.101915  0.221553   \n",
       "1  0.579276  157.0  144.0  106.0  4.684095  0.106843  0.114630  0.236461   \n",
       "2  0.398524  199.0  199.0  161.0  4.567229  0.108079  0.130173  0.212995   \n",
       "3  0.521650  150.0  134.0  110.0  4.244701  0.080401  0.099191  0.165962   \n",
       "4  0.610018  183.0  173.0  139.0  3.538703  0.089225  0.101101  0.212972   \n",
       "\n",
       "         16        17        18  \n",
       "0  0.261760  0.439525  0.127338  \n",
       "1  0.277434  0.415248  0.281201  \n",
       "2  0.240255  0.297173  0.189366  \n",
       "3  0.195841  0.327592  0.230469  \n",
       "4  0.253492  0.429764  0.290053  "
      ]
     },
     "execution_count": 31,
     "metadata": {},
     "output_type": "execute_result"
    }
   ],
   "source": [
    "features.head()"
   ]
  },
  {
   "cell_type": "code",
   "execution_count": 42,
   "metadata": {},
   "outputs": [
    {
     "data": {
      "text/plain": [
       "['Band_1',\n",
       " 'Band_2',\n",
       " 'Band_3',\n",
       " 'Band_4',\n",
       " 'Band_5',\n",
       " 'Band_6',\n",
       " 'Band_7',\n",
       " 'Band_8',\n",
       " 'Band_9',\n",
       " 'Band_10',\n",
       " 'Band_11',\n",
       " 'Band_12',\n",
       " 'Band_13',\n",
       " 'Band_14',\n",
       " 'Band_15',\n",
       " 'Band_16',\n",
       " 'Band_17',\n",
       " 'Band_18',\n",
       " 'Band_19']"
      ]
     },
     "execution_count": 42,
     "metadata": {},
     "output_type": "execute_result"
    }
   ],
   "source": [
    "band_names = []\n",
    "for i in range(X.shape[1]):\n",
    "#for i in range(0,2500):\n",
    "    nband = \"Band_\"+ str(i+1)\n",
    "    band_names.append(nband)\n",
    "\n",
    "band_names\n"
   ]
  },
  {
   "cell_type": "code",
   "execution_count": 43,
   "metadata": {},
   "outputs": [
    {
     "data": {
      "text/html": [
       "<div>\n",
       "<style scoped>\n",
       "    .dataframe tbody tr th:only-of-type {\n",
       "        vertical-align: middle;\n",
       "    }\n",
       "\n",
       "    .dataframe tbody tr th {\n",
       "        vertical-align: top;\n",
       "    }\n",
       "\n",
       "    .dataframe thead th {\n",
       "        text-align: right;\n",
       "    }\n",
       "</style>\n",
       "<table border=\"1\" class=\"dataframe\">\n",
       "  <thead>\n",
       "    <tr style=\"text-align: right;\">\n",
       "      <th></th>\n",
       "      <th>Band_1</th>\n",
       "      <th>Band_2</th>\n",
       "      <th>Band_3</th>\n",
       "      <th>Band_4</th>\n",
       "      <th>Band_5</th>\n",
       "      <th>Band_6</th>\n",
       "      <th>Band_7</th>\n",
       "      <th>Band_8</th>\n",
       "      <th>Band_9</th>\n",
       "      <th>Band_10</th>\n",
       "      <th>Band_11</th>\n",
       "      <th>Band_12</th>\n",
       "      <th>Band_13</th>\n",
       "      <th>Band_14</th>\n",
       "      <th>Band_15</th>\n",
       "      <th>Band_16</th>\n",
       "      <th>Band_17</th>\n",
       "      <th>Band_18</th>\n",
       "      <th>Band_19</th>\n",
       "    </tr>\n",
       "  </thead>\n",
       "  <tbody>\n",
       "    <tr>\n",
       "      <th>0</th>\n",
       "      <td>129.0</td>\n",
       "      <td>113.0</td>\n",
       "      <td>80.0</td>\n",
       "      <td>4.806193</td>\n",
       "      <td>0.057959</td>\n",
       "      <td>0.071329</td>\n",
       "      <td>0.145246</td>\n",
       "      <td>0.186718</td>\n",
       "      <td>0.447160</td>\n",
       "      <td>181.0</td>\n",
       "      <td>170.0</td>\n",
       "      <td>130.0</td>\n",
       "      <td>4.678855</td>\n",
       "      <td>0.088964</td>\n",
       "      <td>0.101915</td>\n",
       "      <td>0.221553</td>\n",
       "      <td>0.261760</td>\n",
       "      <td>0.439525</td>\n",
       "      <td>0.127338</td>\n",
       "    </tr>\n",
       "    <tr>\n",
       "      <th>1</th>\n",
       "      <td>119.0</td>\n",
       "      <td>114.0</td>\n",
       "      <td>69.0</td>\n",
       "      <td>4.965296</td>\n",
       "      <td>0.054273</td>\n",
       "      <td>0.052538</td>\n",
       "      <td>0.145605</td>\n",
       "      <td>0.197211</td>\n",
       "      <td>0.579276</td>\n",
       "      <td>157.0</td>\n",
       "      <td>144.0</td>\n",
       "      <td>106.0</td>\n",
       "      <td>4.684095</td>\n",
       "      <td>0.106843</td>\n",
       "      <td>0.114630</td>\n",
       "      <td>0.236461</td>\n",
       "      <td>0.277434</td>\n",
       "      <td>0.415248</td>\n",
       "      <td>0.281201</td>\n",
       "    </tr>\n",
       "    <tr>\n",
       "      <th>2</th>\n",
       "      <td>136.0</td>\n",
       "      <td>118.0</td>\n",
       "      <td>83.0</td>\n",
       "      <td>4.754364</td>\n",
       "      <td>0.067470</td>\n",
       "      <td>0.079177</td>\n",
       "      <td>0.150295</td>\n",
       "      <td>0.184098</td>\n",
       "      <td>0.398524</td>\n",
       "      <td>199.0</td>\n",
       "      <td>199.0</td>\n",
       "      <td>161.0</td>\n",
       "      <td>4.567229</td>\n",
       "      <td>0.108079</td>\n",
       "      <td>0.130173</td>\n",
       "      <td>0.212995</td>\n",
       "      <td>0.240255</td>\n",
       "      <td>0.297173</td>\n",
       "      <td>0.189366</td>\n",
       "    </tr>\n",
       "    <tr>\n",
       "      <th>3</th>\n",
       "      <td>137.0</td>\n",
       "      <td>124.0</td>\n",
       "      <td>81.0</td>\n",
       "      <td>4.482555</td>\n",
       "      <td>0.060446</td>\n",
       "      <td>0.067874</td>\n",
       "      <td>0.163100</td>\n",
       "      <td>0.215910</td>\n",
       "      <td>0.521650</td>\n",
       "      <td>150.0</td>\n",
       "      <td>134.0</td>\n",
       "      <td>110.0</td>\n",
       "      <td>4.244701</td>\n",
       "      <td>0.080401</td>\n",
       "      <td>0.099191</td>\n",
       "      <td>0.165962</td>\n",
       "      <td>0.195841</td>\n",
       "      <td>0.327592</td>\n",
       "      <td>0.230469</td>\n",
       "    </tr>\n",
       "    <tr>\n",
       "      <th>4</th>\n",
       "      <td>141.0</td>\n",
       "      <td>139.0</td>\n",
       "      <td>88.0</td>\n",
       "      <td>3.828756</td>\n",
       "      <td>0.072505</td>\n",
       "      <td>0.065997</td>\n",
       "      <td>0.212558</td>\n",
       "      <td>0.272465</td>\n",
       "      <td>0.610018</td>\n",
       "      <td>183.0</td>\n",
       "      <td>173.0</td>\n",
       "      <td>139.0</td>\n",
       "      <td>3.538703</td>\n",
       "      <td>0.089225</td>\n",
       "      <td>0.101101</td>\n",
       "      <td>0.212972</td>\n",
       "      <td>0.253492</td>\n",
       "      <td>0.429764</td>\n",
       "      <td>0.290053</td>\n",
       "    </tr>\n",
       "  </tbody>\n",
       "</table>\n",
       "</div>"
      ],
      "text/plain": [
       "   Band_1  Band_2  Band_3    Band_4    Band_5    Band_6    Band_7    Band_8  \\\n",
       "0   129.0   113.0    80.0  4.806193  0.057959  0.071329  0.145246  0.186718   \n",
       "1   119.0   114.0    69.0  4.965296  0.054273  0.052538  0.145605  0.197211   \n",
       "2   136.0   118.0    83.0  4.754364  0.067470  0.079177  0.150295  0.184098   \n",
       "3   137.0   124.0    81.0  4.482555  0.060446  0.067874  0.163100  0.215910   \n",
       "4   141.0   139.0    88.0  3.828756  0.072505  0.065997  0.212558  0.272465   \n",
       "\n",
       "     Band_9  Band_10  Band_11  Band_12   Band_13   Band_14   Band_15  \\\n",
       "0  0.447160    181.0    170.0    130.0  4.678855  0.088964  0.101915   \n",
       "1  0.579276    157.0    144.0    106.0  4.684095  0.106843  0.114630   \n",
       "2  0.398524    199.0    199.0    161.0  4.567229  0.108079  0.130173   \n",
       "3  0.521650    150.0    134.0    110.0  4.244701  0.080401  0.099191   \n",
       "4  0.610018    183.0    173.0    139.0  3.538703  0.089225  0.101101   \n",
       "\n",
       "    Band_16   Band_17   Band_18   Band_19  \n",
       "0  0.221553  0.261760  0.439525  0.127338  \n",
       "1  0.236461  0.277434  0.415248  0.281201  \n",
       "2  0.212995  0.240255  0.297173  0.189366  \n",
       "3  0.165962  0.195841  0.327592  0.230469  \n",
       "4  0.212972  0.253492  0.429764  0.290053  "
      ]
     },
     "execution_count": 43,
     "metadata": {},
     "output_type": "execute_result"
    }
   ],
   "source": [
    "features.columns = band_names\n",
    "features.head()"
   ]
  },
  {
   "cell_type": "code",
   "execution_count": null,
   "metadata": {},
   "outputs": [],
   "source": []
  },
  {
   "cell_type": "code",
   "execution_count": null,
   "metadata": {},
   "outputs": [],
   "source": []
  },
  {
   "cell_type": "code",
   "execution_count": null,
   "metadata": {},
   "outputs": [],
   "source": []
  },
  {
   "cell_type": "code",
   "execution_count": 22,
   "metadata": {},
   "outputs": [],
   "source": [
    "# Using Skicit-learn to split data into training and testing sets\n",
    "from sklearn.model_selection import train_test_split\n"
   ]
  },
  {
   "cell_type": "code",
   "execution_count": 23,
   "metadata": {},
   "outputs": [],
   "source": [
    "# Split the data into training and testing sets\n",
    "train_features, test_features, train_labels, test_labels = train_test_split(X, y, test_size = 0.25, random_state = 42)"
   ]
  },
  {
   "cell_type": "code",
   "execution_count": 24,
   "metadata": {},
   "outputs": [
    {
     "name": "stdout",
     "output_type": "stream",
     "text": [
      "Training Features Shape: (18, 19)\n",
      "Training Labels Shape: (18,)\n",
      "Testing Features Shape: (7, 19)\n",
      "Testing Labels Shape: (7,)\n"
     ]
    }
   ],
   "source": [
    "print('Training Features Shape:', train_features.shape)\n",
    "print('Training Labels Shape:', train_labels.shape)\n",
    "print('Testing Features Shape:', test_features.shape)\n",
    "print('Testing Labels Shape:', test_labels.shape)"
   ]
  },
  {
   "cell_type": "code",
   "execution_count": 25,
   "metadata": {},
   "outputs": [
    {
     "ename": "NameError",
     "evalue": "name 'feature_list' is not defined",
     "output_type": "error",
     "traceback": [
      "\u001b[1;31m---------------------------------------------------------------------------\u001b[0m",
      "\u001b[1;31mNameError\u001b[0m                                 Traceback (most recent call last)",
      "\u001b[1;32m<ipython-input-25-2eea5d465628>\u001b[0m in \u001b[0;36m<module>\u001b[1;34m\u001b[0m\n\u001b[0;32m      1\u001b[0m \u001b[1;31m# The baseline predictions are the historical averages\u001b[0m\u001b[1;33m\u001b[0m\u001b[1;33m\u001b[0m\u001b[1;33m\u001b[0m\u001b[0m\n\u001b[1;32m----> 2\u001b[1;33m \u001b[0mbaseline_preds\u001b[0m \u001b[1;33m=\u001b[0m \u001b[0mtest_features\u001b[0m\u001b[1;33m[\u001b[0m\u001b[1;33m:\u001b[0m\u001b[1;33m,\u001b[0m \u001b[0mfeature_list\u001b[0m\u001b[1;33m.\u001b[0m\u001b[0mindex\u001b[0m\u001b[1;33m(\u001b[0m\u001b[1;34m'average'\u001b[0m\u001b[1;33m)\u001b[0m\u001b[1;33m]\u001b[0m\u001b[1;33m\u001b[0m\u001b[1;33m\u001b[0m\u001b[0m\n\u001b[0m\u001b[0;32m      3\u001b[0m \u001b[1;31m# Baseline errors, and display average baseline error\u001b[0m\u001b[1;33m\u001b[0m\u001b[1;33m\u001b[0m\u001b[1;33m\u001b[0m\u001b[0m\n\u001b[0;32m      4\u001b[0m \u001b[0mbaseline_errors\u001b[0m \u001b[1;33m=\u001b[0m \u001b[0mabs\u001b[0m\u001b[1;33m(\u001b[0m\u001b[0mbaseline_preds\u001b[0m \u001b[1;33m-\u001b[0m \u001b[0mtest_labels\u001b[0m\u001b[1;33m)\u001b[0m\u001b[1;33m\u001b[0m\u001b[1;33m\u001b[0m\u001b[0m\n\u001b[0;32m      5\u001b[0m \u001b[0mprint\u001b[0m\u001b[1;33m(\u001b[0m\u001b[1;34m'Average baseline error: '\u001b[0m\u001b[1;33m,\u001b[0m \u001b[0mround\u001b[0m\u001b[1;33m(\u001b[0m\u001b[0mnp\u001b[0m\u001b[1;33m.\u001b[0m\u001b[0mmean\u001b[0m\u001b[1;33m(\u001b[0m\u001b[0mbaseline_errors\u001b[0m\u001b[1;33m)\u001b[0m\u001b[1;33m,\u001b[0m \u001b[1;36m2\u001b[0m\u001b[1;33m)\u001b[0m\u001b[1;33m)\u001b[0m\u001b[1;33m\u001b[0m\u001b[1;33m\u001b[0m\u001b[0m\n",
      "\u001b[1;31mNameError\u001b[0m: name 'feature_list' is not defined"
     ]
    }
   ],
   "source": [
    "# Saving feature names for later use\n",
    "feature_list = list(features.columns)\n",
    "\n",
    "\n",
    "# The baseline predictions are the historical averages\n",
    "baseline_preds = test_features[:, feature_list.index('average')]\n",
    "# Baseline errors, and display average baseline error\n",
    "baseline_errors = abs(baseline_preds - test_labels)\n",
    "print('Average baseline error: ', round(np.mean(baseline_errors), 2))"
   ]
  }
 ],
 "metadata": {
  "kernelspec": {
   "display_name": "Python 3",
   "language": "python",
   "name": "python3"
  },
  "language_info": {
   "codemirror_mode": {
    "name": "ipython",
    "version": 3
   },
   "file_extension": ".py",
   "mimetype": "text/x-python",
   "name": "python",
   "nbconvert_exporter": "python",
   "pygments_lexer": "ipython3",
   "version": "3.8.2"
  }
 },
 "nbformat": 4,
 "nbformat_minor": 4
}
