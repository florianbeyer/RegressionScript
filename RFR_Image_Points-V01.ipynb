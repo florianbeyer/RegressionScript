{
 "cells": [
  {
   "cell_type": "markdown",
   "metadata": {},
   "source": [
    "# Regression Script\n",
    "## Random Forest for Remote Sensing Data\n",
    "\n",
    "### Florian Beyer\n",
    "\n",
    "2020-02-21"
   ]
  },
  {
   "cell_type": "code",
   "execution_count": 1,
   "metadata": {},
   "outputs": [],
   "source": [
    "# Requried Packages\n",
    "from osgeo import gdal, ogr, gdal_array # I/O image data\n",
    "import numpy as np # math and array handling\n",
    "import matplotlib.pyplot as plt # plot figures\n",
    "import pandas as pd # handling large data as table sheets\n",
    "\n",
    "from sklearn.ensemble import RandomForestRegressor\n",
    "#from sklearn.ensemble import AdaBoostRegressor\n",
    "#from sklearn import svm\n",
    "#from sklearn.kernel_ridge import KernelRidge\n",
    "#from sklearn.model_selection import GridSearchCV\n",
    "#from sklearn.cross_decomposition import PLSRegression\n",
    "#from sklearn.gaussian_process import GaussianProcessRegressor\n",
    "\n",
    "from joblib import dump, load\n",
    "\n",
    "# Tell GDAL to throw Python exceptions, and register all drivers\n",
    "gdal.UseExceptions()\n",
    "gdal.AllRegister()\n",
    "\n"
   ]
  },
  {
   "cell_type": "code",
   "execution_count": 2,
   "metadata": {},
   "outputs": [],
   "source": [
    "# data input\n",
    "\n",
    "# define a number of trees that should be used (default = 500)\n",
    "est = 500\n",
    "\n",
    "# the remote sensing image you want to classify\n",
    "img_RS = 'D:\\\\OwnCloud\\\\WetScapes\\\\2020_02_21_Regression_Biomass\\\\Daten\\\\stack_all_data_tif.tif'\n",
    "\n",
    "# training and validation\n",
    "#    as image in the same extand as your remote sensing image\n",
    "#    no data pixels = 0 or negative\n",
    "#    class pixels > 0 and as integer\n",
    "field = 'D:\\\\OwnCloud\\\\WetScapes\\\\2020_02_21_Regression_Biomass\\\\Daten\\\\biomasse_all.shp'\n",
    "\n",
    "\n",
    "# what is the attributes name of your classes in the shape file (field name of the classes)?\n",
    "attribute = 'FM_in_Gram'\n",
    "\n",
    "\n",
    "# save path, predicted image\n",
    "prediction_map = 'D:\\\\OwnCloud\\\\WetScapes\\\\2020_02_21_Regression_Biomass\\\\Results\\\\prediction_map.tif'\n",
    "\n",
    "\n",
    "# save path, trained model\n",
    "save_model = 'D:\\\\OwnCloud\\\\WetScapes\\\\2020_02_21_Regression_Biomass\\\\Results\\\\RFR.joblib'\n"
   ]
  },
  {
   "cell_type": "code",
   "execution_count": 3,
   "metadata": {},
   "outputs": [],
   "source": [
    "# Data preparation\n",
    "\n",
    "# load image data\n",
    "\n",
    "img_ds = gdal.Open(img_RS, gdal.GA_ReadOnly)\n",
    "\n",
    "img = np.zeros((img_ds.RasterYSize, img_ds.RasterXSize, img_ds.RasterCount),\n",
    "               gdal_array.GDALTypeCodeToNumericTypeCode(img_ds.GetRasterBand(1).DataType))\n",
    "for b in range(img.shape[2]):\n",
    "    img[:, :, b] = img_ds.GetRasterBand(b + 1).ReadAsArray()"
   ]
  },
  {
   "cell_type": "code",
   "execution_count": 4,
   "metadata": {},
   "outputs": [],
   "source": [
    "# Data preparation\n",
    "# load training data from shape file\n",
    "\n",
    "#model_dataset = gdal.Open(model_raster_fname)\n",
    "shape_dataset = ogr.Open(field)\n",
    "shape_layer = shape_dataset.GetLayer()\n",
    "mem_drv = gdal.GetDriverByName('MEM')\n",
    "mem_raster = mem_drv.Create('',img_ds.RasterXSize,img_ds.RasterYSize,1,gdal.GDT_UInt16)\n",
    "mem_raster.SetProjection(img_ds.GetProjection())\n",
    "mem_raster.SetGeoTransform(img_ds.GetGeoTransform())\n",
    "mem_band = mem_raster.GetRasterBand(1)\n",
    "mem_band.Fill(0)\n",
    "mem_band.SetNoDataValue(0)\n",
    "\n",
    "att_ = 'ATTRIBUTE='+attribute\n",
    "# http://gdal.org/gdal__alg_8h.html#adfe5e5d287d6c184aab03acbfa567cb1\n",
    "# http://gis.stackexchange.com/questions/31568/gdal-rasterizelayer-doesnt-burn-all-polygons-to-raster\n",
    "err = gdal.RasterizeLayer(mem_raster, [1], shape_layer, None, None, [1],  [att_,\"ALL_TOUCHED=TRUE\"])\n",
    "assert err == gdal.CE_None\n",
    "\n",
    "roi = mem_raster.ReadAsArray()\n"
   ]
  },
  {
   "cell_type": "code",
   "execution_count": 5,
   "metadata": {},
   "outputs": [
    {
     "data": {
      "image/png": "[encoded data removed]",
      "text/plain": [
       "<Figure size 432x288 with 2 Axes>"
      ]
     },
     "metadata": {
      "needs_background": "light"
     },
     "output_type": "display_data"
    }
   ],
   "source": [
    "# Display image and Training data\n",
    "\n",
    "plt.subplot(121)\n",
    "plt.imshow(img[:, :, 0], cmap=plt.cm.Greys_r)\n",
    "plt.title('RS image - first band')\n",
    "\n",
    "plt.subplot(122)\n",
    "plt.imshow(roi, cmap=plt.cm.Spectral)\n",
    "plt.title('Training Image')\n",
    "\n",
    "plt.show()\n"
   ]
  },
  {
   "cell_type": "code",
   "execution_count": 6,
   "metadata": {},
   "outputs": [
    {
     "name": "stdout",
     "output_type": "stream",
     "text": [
      "We have 25 training samples\n"
     ]
    }
   ],
   "source": [
    "# Number of training pixels:\n",
    "n_samples = (roi > 0).sum()\n",
    "print('We have {n} training samples'.format(n=n_samples))"
   ]
  },
  {
   "cell_type": "code",
   "execution_count": 7,
   "metadata": {},
   "outputs": [],
   "source": [
    "# Subset the image dataset with the training image = X\n",
    "# Mask the classes on the training dataset = y\n",
    "# These will have n_samples rows\n",
    "X = img[roi > 0, :]\n",
    "y = roi[roi > 0]\n"
   ]
  },
  {
   "cell_type": "code",
   "execution_count": 8,
   "metadata": {},
   "outputs": [
    {
     "name": "stdout",
     "output_type": "stream",
     "text": [
      "Our X matrix is sized: (25, 19)\n",
      "Our y array is sized: (25,)\n"
     ]
    }
   ],
   "source": [
    "print('Our X matrix is sized: {sz}'.format(sz=X.shape))\n",
    "print('Our y array is sized: {sz}'.format(sz=y.shape))"
   ]
  },
  {
   "cell_type": "code",
   "execution_count": 13,
   "metadata": {},
   "outputs": [
    {
     "name": "stderr",
     "output_type": "stream",
     "text": [
      "[Parallel(n_jobs=-1)]: Using backend ThreadingBackend with 4 concurrent workers.\n",
      "[Parallel(n_jobs=-1)]: Done  42 tasks      | elapsed:    0.0s\n",
      "[Parallel(n_jobs=-1)]: Done 192 tasks      | elapsed:    0.2s\n",
      "[Parallel(n_jobs=-1)]: Done 442 tasks      | elapsed:    0.5s\n",
      "[Parallel(n_jobs=-1)]: Done 500 out of 500 | elapsed:    0.6s finished\n"
     ]
    },
    {
     "data": {
      "text/plain": [
       "RandomForestRegressor(bootstrap=True, ccp_alpha=0.0, criterion='mse',\n",
       "                      max_depth=None, max_features='auto', max_leaf_nodes=None,\n",
       "                      max_samples=None, min_impurity_decrease=0.0,\n",
       "                      min_impurity_split=None, min_samples_leaf=1,\n",
       "                      min_samples_split=2, min_weight_fraction_leaf=0.0,\n",
       "                      n_estimators=500, n_jobs=-1, oob_score=True,\n",
       "                      random_state=0, verbose=1, warm_start=False)"
      ]
     },
     "execution_count": 13,
     "metadata": {},
     "output_type": "execute_result"
    }
   ],
   "source": [
    "RFR = RandomForestRegressor(bootstrap=True,\n",
    "                             criterion='mse',\n",
    "                             max_depth=None,\n",
    "                             max_features='auto',\n",
    "                             max_leaf_nodes=None,\n",
    "                             min_impurity_decrease=0.0,\n",
    "                             min_impurity_split=None,\n",
    "                             min_samples_leaf=1,\n",
    "                             min_samples_split=2,\n",
    "                             min_weight_fraction_leaf=0.0,\n",
    "                             n_estimators=500,\n",
    "                             n_jobs=-1, # using all cores\n",
    "                             oob_score=True,\n",
    "                             random_state=0,\n",
    "                             verbose=1,\n",
    "                             warm_start=False)\n",
    "RFR.fit(X,y)\n"
   ]
  },
  {
   "cell_type": "code",
   "execution_count": 14,
   "metadata": {},
   "outputs": [
    {
     "name": "stderr",
     "output_type": "stream",
     "text": [
      "[Parallel(n_jobs=4)]: Using backend ThreadingBackend with 4 concurrent workers.\n",
      "[Parallel(n_jobs=4)]: Done  42 tasks      | elapsed:    0.0s\n",
      "[Parallel(n_jobs=4)]: Done 192 tasks      | elapsed:    0.0s\n",
      "[Parallel(n_jobs=4)]: Done 442 tasks      | elapsed:    0.0s\n",
      "[Parallel(n_jobs=4)]: Done 500 out of 500 | elapsed:    0.0s finished\n"
     ]
    },
    {
     "data": {
      "text/plain": [
       "0.9088030031997921"
      ]
     },
     "execution_count": 14,
     "metadata": {},
     "output_type": "execute_result"
    }
   ],
   "source": [
    "# Regression R^2 -> coefficient of determination\n",
    "RFR.score(X,y)"
   ]
  },
  {
   "cell_type": "code",
   "execution_count": 15,
   "metadata": {},
   "outputs": [
    {
     "data": {
      "text/plain": [
       "['D:\\\\OwnCloud\\\\WetScapes\\\\2020_02_21_Regression_Biomass\\\\Results\\\\RFR.joblib']"
      ]
     },
     "execution_count": 15,
     "metadata": {},
     "output_type": "execute_result"
    }
   ],
   "source": [
    "# save the regression model to disk\n",
    "\n",
    "# Save\n",
    "dump(RFR, save_model)\n",
    "\n",
    "# load model:\n",
    "#RFR = load(save_model)"
   ]
  },
  {
   "cell_type": "code",
   "execution_count": null,
   "metadata": {},
   "outputs": [],
   "source": []
  },
  {
   "cell_type": "code",
   "execution_count": 16,
   "metadata": {},
   "outputs": [
    {
     "name": "stdout",
     "output_type": "stream",
     "text": [
      "[119.68253968 155.45977011 168.35294118 157.95698925 163.\n",
      " 255.34090909 409.49238579 379.88095238 342.72727273 363.90374332\n",
      " 420.58510638 331.66666667 288.40206186 159.74522293 186.30681818\n",
      " 129.23976608 154.         131.39664804 151.22093023 187.78350515\n",
      " 244.52631579 282.06451613 591.8452381  505.87209302 431.71122995]\n"
     ]
    }
   ],
   "source": [
    "#print(RFR.estimators_)\n",
    "#print(RFR.feature_importances_)\n",
    "#print(RFR.n_features_)\n",
    "#print(RFR.n_outputs_)\n",
    "#print(RFR.oob_score_)\n",
    "print(RFR.oob_prediction_)"
   ]
  },
  {
   "cell_type": "code",
   "execution_count": 17,
   "metadata": {},
   "outputs": [
    {
     "name": "stdout",
     "output_type": "stream",
     "text": [
      "[119.68253968 155.45977011 168.35294118 157.95698925 163.\n",
      " 255.34090909 409.49238579 379.88095238 342.72727273 363.90374332\n",
      " 420.58510638 331.66666667 288.40206186 159.74522293 186.30681818\n",
      " 129.23976608 154.         131.39664804 151.22093023 187.78350515\n",
      " 244.52631579 282.06451613 591.8452381  505.87209302 431.71122995]\n",
      "[160.0, 150.0, 70.0, 180.0, 270.0, 380.0, 250.0, 320.0, 790.0, 270.0, 510.0, 230.0, 140.0, 140.0, 180.0, 160.0, 150.0, 190.0, 130.0, 170.0, 330.0, 420.0, 380.0, 610.0, 250.0]\n"
     ]
    },
    {
     "data": {
      "image/png": "[encoded data removed]",
      "text/plain": [
       "<Figure size 432x288 with 1 Axes>"
      ]
     },
     "metadata": {
      "needs_background": "light"
     },
     "output_type": "display_data"
    }
   ],
   "source": [
    "pred1 = np.array(RFR.oob_prediction_)\n",
    "obs = np.array(y)\n",
    "obs = [np.float(i) for i in obs]\n",
    "\n",
    "print(pred1)\n",
    "print(obs)\n",
    "fig,ax = plt.subplots()\n",
    "ax.scatter(obs,pred1)\n",
    "plt.show()"
   ]
  },
  {
   "cell_type": "code",
   "execution_count": 39,
   "metadata": {},
   "outputs": [
    {
     "name": "stdout",
     "output_type": "stream",
     "text": [
      "Band 1: 3.08\n",
      "Band 2: 3.31\n",
      "Band 3: 2.19\n",
      "Band 4: 13.73\n",
      "Band 5: 0.69\n",
      "Band 6: 0.95\n",
      "Band 7: 1.17\n",
      "Band 8: 6.92\n",
      "Band 9: 16.08\n",
      "Band 10: 0.76\n",
      "Band 11: 0.79\n",
      "Band 12: 2.94\n",
      "Band 13: 15.36\n",
      "Band 14: 1.7\n",
      "Band 15: 3.51\n",
      "Band 16: 5.73\n",
      "Band 17: 4.27\n",
      "Band 18: 14.78\n",
      "Band 19: 2.04\n"
     ]
    }
   ],
   "source": [
    "# band importances\n",
    "\n",
    "for i in range(len(RFR.feature_importances_)):\n",
    "    importance = round(RFR.feature_importances_[i]*100,2)\n",
    "    print('Band {}: {}'.format(i+1, importance))"
   ]
  },
  {
   "cell_type": "code",
   "execution_count": 40,
   "metadata": {},
   "outputs": [
    {
     "name": "stdout",
     "output_type": "stream",
     "text": [
      "Reshaped from (458, 83, 19) to (38014, 19)\n"
     ]
    }
   ],
   "source": [
    "# Predicting the rest of the image\n",
    "\n",
    "# Take our full image and reshape into long 2d array (nrow * ncol, nband) for classification\n",
    "new_shape = (img.shape[0] * img.shape[1], img.shape[2])\n",
    "img_as_array = img[:, :, :].reshape(new_shape)\n",
    "\n",
    "print('Reshaped from {o} to {n}'.format(o=img.shape, n=img_as_array.shape))\n",
    "\n",
    "img_as_array = np.nan_to_num(img_as_array)"
   ]
  },
  {
   "cell_type": "code",
   "execution_count": 18,
   "metadata": {},
   "outputs": [],
   "source": [
    "prediction_ = RFR.predict(img_as_array)"
   ]
  },
  {
   "cell_type": "code",
   "execution_count": 19,
   "metadata": {},
   "outputs": [
    {
     "name": "stdout",
     "output_type": "stream",
     "text": [
      "Reshaped back to (458, 83)\n"
     ]
    }
   ],
   "source": [
    "prediction = prediction_.reshape(img[:, :, 0].shape)\n",
    "print('Reshaped back to {}'.format(prediction.shape))"
   ]
  },
  {
   "cell_type": "code",
   "execution_count": 20,
   "metadata": {},
   "outputs": [
    {
     "name": "stdout",
     "output_type": "stream",
     "text": [
      "Image saved to: D:\\OwnCloud\\WetScapes\\2020_02_21_Regression_Biomass\\Results\\prediction_map.tif\n"
     ]
    }
   ],
   "source": [
    "cols = img.shape[1]\n",
    "rows = img.shape[0]\n",
    "\n",
    "prediction.astype(np.float16)\n",
    "\n",
    "driver = gdal.GetDriverByName(\"gtiff\")\n",
    "outdata = driver.Create(prediction_map, cols, rows, 1, gdal.GDT_UInt16)\n",
    "outdata.SetGeoTransform(img_ds.GetGeoTransform())##sets same geotransform as input\n",
    "outdata.SetProjection(img_ds.GetProjection())##sets same projection as input\n",
    "outdata.GetRasterBand(1).WriteArray(prediction)\n",
    "outdata.FlushCache() ##saves to disk!!\n",
    "print('Image saved to: {}'.format(prediction_map))"
   ]
  }
 ],
 "metadata": {
  "kernelspec": {
   "display_name": "Python 3",
   "language": "python",
   "name": "python3"
  },
  "language_info": {
   "codemirror_mode": {
    "name": "ipython",
    "version": 3
   },
   "file_extension": ".py",
   "mimetype": "text/x-python",
   "name": "python",
   "nbconvert_exporter": "python",
   "pygments_lexer": "ipython3",
   "version": "3.8.2"
  }
 },
 "nbformat": 4,
 "nbformat_minor": 4
}
