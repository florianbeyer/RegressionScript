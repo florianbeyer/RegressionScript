{
 "cells": [
  {
   "cell_type": "markdown",
   "metadata": {},
   "source": [
    "# Regression Script\n",
    "## Partial Least Squares\n",
    "\n",
    "### Florian Beyer\n",
    "### 2020-04-28\n",
    "### V0.2\n",
    "\n",
    "Quelle:\n",
    "- https://scikit-learn.org/stable/modules/generated/sklearn.cross_decomposition.PLSRegression.html\n",
    "- https://towardsdatascience.com/random-forest-in-python-24d0893d51c0\n",
    "- https://heartbeat.fritz.ai/random-forest-regression-in-python-using-scikit-learn-9e9b147e2153\n",
    "- variable importance: https://github.com/scikit-learn/scikit-learn/issues/7050"
   ]
  },
  {
   "cell_type": "code",
   "execution_count": 68,
   "metadata": {},
   "outputs": [],
   "source": [
    "# Requried Packages\n",
    "from osgeo import gdal, ogr, gdal_array # I/O image data\n",
    "import numpy as np # math and array handling\n",
    "import matplotlib.pyplot as plt # plot figures\n",
    "import pandas as pd # handling large data as table sheets\n",
    "from joblib import dump, load\n",
    "from operator import itemgetter\n",
    "\n",
    "from sklearn.cross_decomposition import PLSRegression\n",
    "from sklearn.model_selection import train_test_split\n",
    "from sklearn.metrics import mean_squared_error, r2_score\n",
    "\n",
    "\n",
    "# Tell GDAL to throw Python exceptions, and register all drivers\n",
    "gdal.UseExceptions()\n",
    "gdal.AllRegister()"
   ]
  },
  {
   "cell_type": "code",
   "execution_count": 2,
   "metadata": {},
   "outputs": [],
   "source": [
    "# data input\n",
    "\n",
    "# define a number of trees that should be used (default = 500)\n",
    "est = 1000\n",
    "\n",
    "# Size of splitting the data (0.1 -> 10 % test data, 90 % training data)\n",
    "testSize = 0.25\n",
    "\n",
    "# the remote sensing image you want to classify\n",
    "img_RS = 'D:\\\\OwnCloud\\\\WetScapes\\\\2020_02_21_Regression_Biomass\\\\Daten\\\\stack_all_data_tif.tif'\n",
    "\n",
    "# training and validation\n",
    "#    as image in the same extand as your remote sensing image\n",
    "#    no data pixels = 0 or negative\n",
    "#    class pixels > 0 and as integer\n",
    "field = 'D:\\\\OwnCloud\\\\WetScapes\\\\2020_02_21_Regression_Biomass\\\\Daten\\\\biomasse_all.shp'\n",
    "\n",
    "\n",
    "# what is the attributes name of your classes in the shape file (field name of the classes)?\n",
    "attribute = 'FM_in_Gram'\n",
    "\n",
    "\n",
    "# save path, predicted image\n",
    "prediction_map = 'D:\\\\OwnCloud\\\\WetScapes\\\\2020_02_21_Regression_Biomass\\\\Results\\\\PLSR_prediction_map.tif'\n",
    "\n",
    "\n",
    "# save path, trained model\n",
    "save_model = 'D:\\\\OwnCloud\\\\WetScapes\\\\2020_02_21_Regression_Biomass\\\\Results\\\\PLSR_model.joblib'\n"
   ]
  },
  {
   "cell_type": "code",
   "execution_count": 6,
   "metadata": {},
   "outputs": [
    {
     "name": "stdout",
     "output_type": "stream",
     "text": [
      "Available attributes in the shape file are: ['P', 'Ost', 'West', 'Hoch', 'FM', 'Proben_ID', 'TM_in_%FM', 'oTM_in_%FM', 'Asche_in_%', 'FM_in_Gram', 'TM_in_Gram']\n"
     ]
    }
   ],
   "source": [
    "# laod training data and show all shape attributes\n",
    "\n",
    "#model_dataset = gdal.Open(model_raster_fname)\n",
    "shape_dataset = ogr.Open(field)\n",
    "shape_layer = shape_dataset.GetLayer()\n",
    "\n",
    "# extract the names of all attributes (fieldnames) in the shape file\n",
    "attributes = []\n",
    "ldefn = shape_layer.GetLayerDefn()\n",
    "for n in range(ldefn.GetFieldCount()):\n",
    "    fdefn = ldefn.GetFieldDefn(n)\n",
    "    attributes.append(fdefn.name)\n",
    "    \n",
    "# print the attributes\n",
    "print('Available attributes in the shape file are: {}'.format(attributes))"
   ]
  },
  {
   "cell_type": "code",
   "execution_count": 7,
   "metadata": {},
   "outputs": [],
   "source": [
    "# Data preparation\n",
    "\n",
    "# load image data\n",
    "\n",
    "img_ds = gdal.Open(img_RS, gdal.GA_ReadOnly)\n",
    "\n",
    "img = np.zeros((img_ds.RasterYSize, img_ds.RasterXSize, img_ds.RasterCount),\n",
    "               gdal_array.GDALTypeCodeToNumericTypeCode(img_ds.GetRasterBand(1).DataType))\n",
    "for b in range(img.shape[2]):\n",
    "    img[:, :, b] = img_ds.GetRasterBand(b + 1).ReadAsArray()"
   ]
  },
  {
   "cell_type": "code",
   "execution_count": 8,
   "metadata": {},
   "outputs": [],
   "source": [
    "# Data preparation\n",
    "# load training data from shape file\n",
    "\n",
    "#model_dataset = gdal.Open(model_raster_fname)\n",
    "shape_dataset = ogr.Open(field)\n",
    "shape_layer = shape_dataset.GetLayer()\n",
    "mem_drv = gdal.GetDriverByName('MEM')\n",
    "mem_raster = mem_drv.Create('',img_ds.RasterXSize,img_ds.RasterYSize,1,gdal.GDT_UInt16)\n",
    "mem_raster.SetProjection(img_ds.GetProjection())\n",
    "mem_raster.SetGeoTransform(img_ds.GetGeoTransform())\n",
    "mem_band = mem_raster.GetRasterBand(1)\n",
    "mem_band.Fill(0)\n",
    "mem_band.SetNoDataValue(0)\n",
    "\n",
    "att_ = 'ATTRIBUTE='+attribute\n",
    "# http://gdal.org/gdal__alg_8h.html#adfe5e5d287d6c184aab03acbfa567cb1\n",
    "# http://gis.stackexchange.com/questions/31568/gdal-rasterizelayer-doesnt-burn-all-polygons-to-raster\n",
    "err = gdal.RasterizeLayer(mem_raster, [1], shape_layer, None, None, [1],  [att_,\"ALL_TOUCHED=TRUE\"])\n",
    "assert err == gdal.CE_None\n",
    "\n",
    "roi = mem_raster.ReadAsArray()\n"
   ]
  },
  {
   "cell_type": "code",
   "execution_count": 9,
   "metadata": {},
   "outputs": [
    {
     "data": {
      "image/png": "[encoded data removed]",
      "text/plain": [
       "<Figure size 432x288 with 2 Axes>"
      ]
     },
     "metadata": {
      "needs_background": "light"
     },
     "output_type": "display_data"
    }
   ],
   "source": [
    "# Display image and Training data\n",
    "\n",
    "plt.subplot(121)\n",
    "plt.imshow(img[:, :, 0], cmap=plt.cm.Greys_r)\n",
    "plt.title('RS image - first band')\n",
    "\n",
    "plt.subplot(122)\n",
    "plt.imshow(roi, cmap=plt.cm.Spectral)\n",
    "plt.title('Training Image')\n",
    "\n",
    "plt.show()\n"
   ]
  },
  {
   "cell_type": "code",
   "execution_count": 10,
   "metadata": {},
   "outputs": [
    {
     "name": "stdout",
     "output_type": "stream",
     "text": [
      "We have 25 training samples\n"
     ]
    }
   ],
   "source": [
    "# Number of training pixels:\n",
    "n_samples = (roi > 0).sum()\n",
    "print('We have {n} training samples'.format(n=n_samples))# Subset the image dataset with the training image = X"
   ]
  },
  {
   "cell_type": "code",
   "execution_count": 11,
   "metadata": {},
   "outputs": [],
   "source": [
    "# Mask the classes on the training dataset = y\n",
    "# These will have n_samples rows\n",
    "X = img[roi > 0, :]\n",
    "y = roi[roi > 0]"
   ]
  },
  {
   "cell_type": "code",
   "execution_count": 12,
   "metadata": {},
   "outputs": [
    {
     "name": "stdout",
     "output_type": "stream",
     "text": [
      "The shape of our features is: (25, 19)\n",
      "The number of Spectra is: 25\n",
      "The number of bands is: 19\n"
     ]
    },
    {
     "data": {
      "text/html": [
       "<div>\n",
       "<style scoped>\n",
       "    .dataframe tbody tr th:only-of-type {\n",
       "        vertical-align: middle;\n",
       "    }\n",
       "\n",
       "    .dataframe tbody tr th {\n",
       "        vertical-align: top;\n",
       "    }\n",
       "\n",
       "    .dataframe thead th {\n",
       "        text-align: right;\n",
       "    }\n",
       "</style>\n",
       "<table border=\"1\" class=\"dataframe\">\n",
       "  <thead>\n",
       "    <tr style=\"text-align: right;\">\n",
       "      <th></th>\n",
       "      <th>Band_1</th>\n",
       "      <th>Band_2</th>\n",
       "      <th>Band_3</th>\n",
       "      <th>Band_4</th>\n",
       "      <th>Band_5</th>\n",
       "      <th>Band_6</th>\n",
       "      <th>Band_7</th>\n",
       "      <th>Band_8</th>\n",
       "      <th>Band_9</th>\n",
       "      <th>Band_10</th>\n",
       "      <th>Band_11</th>\n",
       "      <th>Band_12</th>\n",
       "      <th>Band_13</th>\n",
       "      <th>Band_14</th>\n",
       "      <th>Band_15</th>\n",
       "      <th>Band_16</th>\n",
       "      <th>Band_17</th>\n",
       "      <th>Band_18</th>\n",
       "      <th>Band_19</th>\n",
       "      <th>value</th>\n",
       "    </tr>\n",
       "  </thead>\n",
       "  <tbody>\n",
       "    <tr>\n",
       "      <th>0</th>\n",
       "      <td>129.0</td>\n",
       "      <td>113.0</td>\n",
       "      <td>80.0</td>\n",
       "      <td>4.806193</td>\n",
       "      <td>0.057959</td>\n",
       "      <td>0.071329</td>\n",
       "      <td>0.145246</td>\n",
       "      <td>0.186718</td>\n",
       "      <td>0.447160</td>\n",
       "      <td>181.0</td>\n",
       "      <td>170.0</td>\n",
       "      <td>130.0</td>\n",
       "      <td>4.678855</td>\n",
       "      <td>0.088964</td>\n",
       "      <td>0.101915</td>\n",
       "      <td>0.221553</td>\n",
       "      <td>0.261760</td>\n",
       "      <td>0.439525</td>\n",
       "      <td>0.127338</td>\n",
       "      <td>160</td>\n",
       "    </tr>\n",
       "    <tr>\n",
       "      <th>1</th>\n",
       "      <td>119.0</td>\n",
       "      <td>114.0</td>\n",
       "      <td>69.0</td>\n",
       "      <td>4.965296</td>\n",
       "      <td>0.054273</td>\n",
       "      <td>0.052538</td>\n",
       "      <td>0.145605</td>\n",
       "      <td>0.197211</td>\n",
       "      <td>0.579276</td>\n",
       "      <td>157.0</td>\n",
       "      <td>144.0</td>\n",
       "      <td>106.0</td>\n",
       "      <td>4.684095</td>\n",
       "      <td>0.106843</td>\n",
       "      <td>0.114630</td>\n",
       "      <td>0.236461</td>\n",
       "      <td>0.277434</td>\n",
       "      <td>0.415248</td>\n",
       "      <td>0.281201</td>\n",
       "      <td>150</td>\n",
       "    </tr>\n",
       "    <tr>\n",
       "      <th>2</th>\n",
       "      <td>136.0</td>\n",
       "      <td>118.0</td>\n",
       "      <td>83.0</td>\n",
       "      <td>4.754364</td>\n",
       "      <td>0.067470</td>\n",
       "      <td>0.079177</td>\n",
       "      <td>0.150295</td>\n",
       "      <td>0.184098</td>\n",
       "      <td>0.398524</td>\n",
       "      <td>199.0</td>\n",
       "      <td>199.0</td>\n",
       "      <td>161.0</td>\n",
       "      <td>4.567229</td>\n",
       "      <td>0.108079</td>\n",
       "      <td>0.130173</td>\n",
       "      <td>0.212995</td>\n",
       "      <td>0.240255</td>\n",
       "      <td>0.297173</td>\n",
       "      <td>0.189366</td>\n",
       "      <td>70</td>\n",
       "    </tr>\n",
       "    <tr>\n",
       "      <th>3</th>\n",
       "      <td>137.0</td>\n",
       "      <td>124.0</td>\n",
       "      <td>81.0</td>\n",
       "      <td>4.482555</td>\n",
       "      <td>0.060446</td>\n",
       "      <td>0.067874</td>\n",
       "      <td>0.163100</td>\n",
       "      <td>0.215910</td>\n",
       "      <td>0.521650</td>\n",
       "      <td>150.0</td>\n",
       "      <td>134.0</td>\n",
       "      <td>110.0</td>\n",
       "      <td>4.244701</td>\n",
       "      <td>0.080401</td>\n",
       "      <td>0.099191</td>\n",
       "      <td>0.165962</td>\n",
       "      <td>0.195841</td>\n",
       "      <td>0.327592</td>\n",
       "      <td>0.230469</td>\n",
       "      <td>180</td>\n",
       "    </tr>\n",
       "    <tr>\n",
       "      <th>4</th>\n",
       "      <td>141.0</td>\n",
       "      <td>139.0</td>\n",
       "      <td>88.0</td>\n",
       "      <td>3.828756</td>\n",
       "      <td>0.072505</td>\n",
       "      <td>0.065997</td>\n",
       "      <td>0.212558</td>\n",
       "      <td>0.272465</td>\n",
       "      <td>0.610018</td>\n",
       "      <td>183.0</td>\n",
       "      <td>173.0</td>\n",
       "      <td>139.0</td>\n",
       "      <td>3.538703</td>\n",
       "      <td>0.089225</td>\n",
       "      <td>0.101101</td>\n",
       "      <td>0.212972</td>\n",
       "      <td>0.253492</td>\n",
       "      <td>0.429764</td>\n",
       "      <td>0.290053</td>\n",
       "      <td>270</td>\n",
       "    </tr>\n",
       "  </tbody>\n",
       "</table>\n",
       "</div>"
      ],
      "text/plain": [
       "   Band_1  Band_2  Band_3    Band_4    Band_5    Band_6    Band_7    Band_8  \\\n",
       "0   129.0   113.0    80.0  4.806193  0.057959  0.071329  0.145246  0.186718   \n",
       "1   119.0   114.0    69.0  4.965296  0.054273  0.052538  0.145605  0.197211   \n",
       "2   136.0   118.0    83.0  4.754364  0.067470  0.079177  0.150295  0.184098   \n",
       "3   137.0   124.0    81.0  4.482555  0.060446  0.067874  0.163100  0.215910   \n",
       "4   141.0   139.0    88.0  3.828756  0.072505  0.065997  0.212558  0.272465   \n",
       "\n",
       "     Band_9  Band_10  Band_11  Band_12   Band_13   Band_14   Band_15  \\\n",
       "0  0.447160    181.0    170.0    130.0  4.678855  0.088964  0.101915   \n",
       "1  0.579276    157.0    144.0    106.0  4.684095  0.106843  0.114630   \n",
       "2  0.398524    199.0    199.0    161.0  4.567229  0.108079  0.130173   \n",
       "3  0.521650    150.0    134.0    110.0  4.244701  0.080401  0.099191   \n",
       "4  0.610018    183.0    173.0    139.0  3.538703  0.089225  0.101101   \n",
       "\n",
       "    Band_16   Band_17   Band_18   Band_19  value  \n",
       "0  0.221553  0.261760  0.439525  0.127338    160  \n",
       "1  0.236461  0.277434  0.415248  0.281201    150  \n",
       "2  0.212995  0.240255  0.297173  0.189366     70  \n",
       "3  0.165962  0.195841  0.327592  0.230469    180  \n",
       "4  0.212972  0.253492  0.429764  0.290053    270  "
      ]
     },
     "execution_count": 12,
     "metadata": {},
     "output_type": "execute_result"
    }
   ],
   "source": [
    "features = pd.DataFrame(X)\n",
    "\n",
    "band_names = []\n",
    "for i in range(X.shape[1]):\n",
    "#for i in range(0,2500):\n",
    "    nband = \"Band_\"+ str(i+1)\n",
    "    band_names.append(nband)\n",
    "\n",
    "features.columns = band_names\n",
    "\n",
    "print('The shape of our features is:', features.shape)\n",
    "print('The number of Spectra is:', features.shape[0])\n",
    "print('The number of bands is:', features.shape[1])\n",
    "\n",
    "features['value'] = y\n",
    "\n",
    "features.head()"
   ]
  },
  {
   "cell_type": "code",
   "execution_count": 13,
   "metadata": {},
   "outputs": [
    {
     "name": "stdout",
     "output_type": "stream",
     "text": [
      "Training Features Shape: (18, 19)\n",
      "Training Labels Shape: (18,)\n",
      "Testing Features Shape: (7, 19)\n",
      "Testing Labels Shape: (7,)\n"
     ]
    }
   ],
   "source": [
    "# Labels are the values we want to predict\n",
    "labels = np.array(features['value'])\n",
    "\n",
    "# Remove the labels from the features\n",
    "# axis 1 refers to the columns\n",
    "features = features.drop('value', axis = 1)\n",
    "\n",
    "# Saving feature names for later use\n",
    "feature_list = list(features.columns)\n",
    "\n",
    "# Convert to numpy array\n",
    "features = np.array(features)\n",
    "\n",
    "# Split the data into training and testing sets\n",
    "train_features, test_features, train_labels, test_labels = train_test_split(features, labels, test_size = testSize, random_state = randomState)\n",
    "\n",
    "print('Training Features Shape:', train_features.shape)\n",
    "print('Training Labels Shape:', train_labels.shape)\n",
    "print('Testing Features Shape:', test_features.shape)\n",
    "print('Testing Labels Shape:', test_labels.shape)"
   ]
  },
  {
   "cell_type": "code",
   "execution_count": 46,
   "metadata": {},
   "outputs": [
    {
     "data": {
      "text/plain": [
       "PLSRegression(copy=True, max_iter=500, n_components=4, scale=True, tol=1e-06)"
      ]
     },
     "execution_count": 46,
     "metadata": {},
     "output_type": "execute_result"
    }
   ],
   "source": [
    "plsr = PLSRegression(n_components=4,\n",
    "                     scale=True,\n",
    "                     max_iter=500,\n",
    "                     tol=1e-06,\n",
    "                     copy=True)\n",
    "\n",
    "plsr.fit(train_features, train_labels)"
   ]
  },
  {
   "cell_type": "code",
   "execution_count": 47,
   "metadata": {},
   "outputs": [
    {
     "name": "stdout",
     "output_type": "stream",
     "text": [
      "0.8287335159095089\n"
     ]
    }
   ],
   "source": [
    "print(plsr.score(train_features, train_labels))"
   ]
  },
  {
   "cell_type": "code",
   "execution_count": 59,
   "metadata": {},
   "outputs": [
    {
     "name": "stdout",
     "output_type": "stream",
     "text": [
      "Band 1: 0.8654274217819309\n",
      "Band 2: 0.7920490900351752\n",
      "Band 3: 1.2088755654451426\n",
      "Band 4: 1.0700223428766995\n",
      "Band 5: 0.4941257157366325\n",
      "Band 6: 0.7511952962249925\n",
      "Band 7: 0.8755354005284008\n",
      "Band 8: 0.8665203521419863\n",
      "Band 9: 0.9999171433322372\n",
      "Band 10: 0.6914371632411921\n",
      "Band 11: 0.9176207996106249\n",
      "Band 12: 1.4639246831827593\n",
      "Band 13: 1.1254387436424453\n",
      "Band 14: 1.1025099392171334\n",
      "Band 15: 0.9893361920564802\n",
      "Band 16: 1.1944693866906873\n",
      "Band 17: 1.2098697321710072\n",
      "Band 18: 1.1089368226883307\n",
      "Band 19: 0.8045240004082783\n"
     ]
    }
   ],
   "source": [
    "# band importances\n",
    "\n",
    "# function for variable importance\n",
    "def vip(model):\n",
    "    t = model.x_scores_\n",
    "    w = model.x_weights_\n",
    "    q = model.y_loadings_\n",
    "    p, h = w.shape\n",
    "    vips = np.zeros((p,))\n",
    "    s = np.diag(t.T @ t @ q.T @ q).reshape(h, -1)\n",
    "    total_s = np.sum(s)\n",
    "    for i in range(p):\n",
    "        weight = np.array([ (w[i,j] / np.linalg.norm(w[:,j]))**2 for j in range(h) ])\n",
    "        vips[i] = np.sqrt(p*(s.T @ weight)/total_s)\n",
    "    return vips\n",
    "\n",
    "importance = vip(plsr)\n",
    "\n",
    "imp = {}\n",
    "for i in range(features.shape[1]):\n",
    "    print('Band {}: {}'.format(i+1, importance[i]))\n",
    "    imp['Band{}'.format(i+1)] = importance[i]"
   ]
  },
  {
   "cell_type": "code",
   "execution_count": 69,
   "metadata": {},
   "outputs": [
    {
     "data": {
      "text/plain": [
       "{'Band12': 1.4639246831827593,\n",
       " 'Band17': 1.2098697321710072,\n",
       " 'Band3': 1.2088755654451426,\n",
       " 'Band16': 1.1944693866906873,\n",
       " 'Band13': 1.1254387436424453,\n",
       " 'Band18': 1.1089368226883307,\n",
       " 'Band14': 1.1025099392171334,\n",
       " 'Band4': 1.0700223428766995,\n",
       " 'Band9': 0.9999171433322372,\n",
       " 'Band15': 0.9893361920564802,\n",
       " 'Band11': 0.9176207996106249,\n",
       " 'Band7': 0.8755354005284008,\n",
       " 'Band8': 0.8665203521419863,\n",
       " 'Band1': 0.8654274217819309,\n",
       " 'Band19': 0.8045240004082783,\n",
       " 'Band2': 0.7920490900351752,\n",
       " 'Band6': 0.7511952962249925,\n",
       " 'Band10': 0.6914371632411921,\n",
       " 'Band5': 0.4941257157366325}"
      ]
     },
     "execution_count": 69,
     "metadata": {},
     "output_type": "execute_result"
    }
   ],
   "source": [
    "sorted_imp = dict(sorted(imp.items(), key=itemgetter(1), reverse=True))\n",
    "sorted_imp "
   ]
  },
  {
   "cell_type": "code",
   "execution_count": 70,
   "metadata": {},
   "outputs": [],
   "source": [
    "# predict test data\n",
    "predictions_test_ds = plsr.predict(test_features)\n"
   ]
  },
  {
   "cell_type": "code",
   "execution_count": 88,
   "metadata": {},
   "outputs": [
    {
     "name": "stdout",
     "output_type": "stream",
     "text": [
      "-------------\n",
      "n of the test data: 7\n",
      "Mean of the variable: 273.20\n",
      "Standard deviation of the variable: 164.63\n",
      "-------------\n",
      "Mean Absolute Error: 142.10\n",
      "Mean squared error: 45579.25\n",
      "RMSE: 213.49\n",
      "mean absolute percentage error (MAPE) / Accuracy: 35.19 %.\n",
      "-------------\n",
      "Coefficient of determination r²: -1.38\n"
     ]
    }
   ],
   "source": [
    "# Calculate the absolute errors\n",
    "errors = abs(predictions_test_ds - test_labels)\n",
    "# Print out the mean absolute error (mae)\n",
    "\n",
    "# Print out the mean absolute error (mae)\n",
    "\n",
    "\n",
    "print('-------------')\n",
    "print('n of the test data: {}'.format(len(test_labels)))\n",
    "print('Mean of the variable: {:.2f}'.format(np.mean(labels)))\n",
    "print('Standard deviation of the variable: {:.2f}'.format(np.std(labels)))\n",
    "print('-------------')\n",
    "print('Mean Absolute Error: {:.2f}'.format(np.mean(errors)))\n",
    "\n",
    "mse = mean_squared_error(test_labels, predictions_test_ds)\n",
    "print('Mean squared error: {:.2f}'.format(mse))\n",
    "print('RMSE: {:.2f}'.format(np.sqrt(mse)))\n",
    "\n",
    "'''\n",
    "To put our predictions in perspective, we can calculate an accuracy using\n",
    "the mean average percentage error subtracted from 100 %.\n",
    "'''\n",
    "\n",
    "# Calculate mean absolute percentage error (MAPE)\n",
    "mape = 100 * (errors / test_labels)\n",
    "# Calculate and display accuracy\n",
    "accuracy = 100 - np.mean(mape)\n",
    "print('mean absolute percentage error (MAPE) / Accuracy: {:.2f}'.format(accuracy), '%.')\n",
    "print('-------------')\n",
    "# The coefficient of determination: 1 is perfect prediction\n",
    "print('Coefficient of determination r²: {:.2f}'.format(r2_score(test_labels, predictions_test_ds)))\n",
    "\n"
   ]
  },
  {
   "cell_type": "code",
   "execution_count": 25,
   "metadata": {},
   "outputs": [
    {
     "data": {
      "image/png": "[encoded data removed]",
      "text/plain": [
       "<Figure size 432x288 with 1 Axes>"
      ]
     },
     "metadata": {
      "needs_background": "light"
     },
     "output_type": "display_data"
    }
   ],
   "source": [
    "fig, ax = plt.subplots()\n",
    "ax.scatter(test_labels, predictions_test_ds)\n",
    "ax.plot([test_labels.min(), test_labels.max()], [test_labels.min(), test_labels.max()], 'k--', lw=1)\n",
    "ax.set_xlabel('Measured')\n",
    "ax.set_ylabel('Predicted')\n",
    "\n",
    "plt.show()"
   ]
  },
  {
   "cell_type": "code",
   "execution_count": 74,
   "metadata": {},
   "outputs": [
    {
     "name": "stdout",
     "output_type": "stream",
     "text": [
      "Reshaped from (458, 83, 19) to (38014, 19)\n"
     ]
    }
   ],
   "source": [
    "# Predicting the rest of the image\n",
    "\n",
    "# Take our full image and reshape into long 2d array (nrow * ncol, nband) for classification\n",
    "new_shape = (img.shape[0] * img.shape[1], img.shape[2])\n",
    "img_as_array = img[:, :, :].reshape(new_shape)\n",
    "\n",
    "print('Reshaped from {o} to {n}'.format(o=img.shape, n=img_as_array.shape))\n",
    "\n",
    "img_as_array = np.nan_to_num(img_as_array)"
   ]
  },
  {
   "cell_type": "code",
   "execution_count": 75,
   "metadata": {},
   "outputs": [],
   "source": [
    "prediction_ = plsr.predict(img_as_array)"
   ]
  },
  {
   "cell_type": "code",
   "execution_count": 76,
   "metadata": {},
   "outputs": [
    {
     "name": "stdout",
     "output_type": "stream",
     "text": [
      "Reshaped back to (458, 83)\n"
     ]
    }
   ],
   "source": [
    "prediction = prediction_.reshape(img[:, :, 0].shape)\n",
    "print('Reshaped back to {}'.format(prediction.shape))"
   ]
  },
  {
   "cell_type": "code",
   "execution_count": 77,
   "metadata": {},
   "outputs": [
    {
     "name": "stdout",
     "output_type": "stream",
     "text": [
      "Image saved to: D:\\OwnCloud\\WetScapes\\2020_02_21_Regression_Biomass\\Results\\PLSR_prediction_map.tif\n"
     ]
    }
   ],
   "source": [
    "# Save regression\n",
    "\n",
    "cols = img.shape[1]\n",
    "rows = img.shape[0]\n",
    "\n",
    "prediction.astype(np.float16)\n",
    "\n",
    "driver = gdal.GetDriverByName(\"gtiff\")\n",
    "outdata = driver.Create(prediction_map, cols, rows, 1, gdal.GDT_UInt16)\n",
    "outdata.SetGeoTransform(img_ds.GetGeoTransform())##sets same geotransform as input\n",
    "outdata.SetProjection(img_ds.GetProjection())##sets same projection as input\n",
    "outdata.GetRasterBand(1).WriteArray(prediction)\n",
    "outdata.FlushCache() ##saves to disk!!\n",
    "print('Image saved to: {}'.format(prediction_map))"
   ]
  },
  {
   "cell_type": "code",
   "execution_count": 89,
   "metadata": {},
   "outputs": [
    {
     "data": {
      "image/png": "[encoded data removed]",
      "text/plain": [
       "<Figure size 432x288 with 2 Axes>"
      ]
     },
     "metadata": {
      "needs_background": "light"
     },
     "output_type": "display_data"
    }
   ],
   "source": [
    "# Display images\n",
    "plt.subplot(121)\n",
    "plt.imshow(img[:, :, 0], cmap=plt.cm.Greys_r)\n",
    "plt.title('RS image - first band')\n",
    "\n",
    "plt.subplot(122)\n",
    "plt.imshow(prediction, cmap=plt.cm.Spectral)\n",
    "plt.title('Prediction')\n",
    "\n",
    "plt.show()"
   ]
  }
 ],
 "metadata": {
  "kernelspec": {
   "display_name": "Python 3",
   "language": "python",
   "name": "python3"
  },
  "language_info": {
   "codemirror_mode": {
    "name": "ipython",
    "version": 3
   },
   "file_extension": ".py",
   "mimetype": "text/x-python",
   "name": "python",
   "nbconvert_exporter": "python",
   "pygments_lexer": "ipython3",
   "version": "3.8.2"
  }
 },
 "nbformat": 4,
 "nbformat_minor": 4
}
