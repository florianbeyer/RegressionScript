{
 "cells": [
  {
   "cell_type": "markdown",
   "metadata": {},
   "source": [
    "# Regression Script\n",
    "## Random Forest\n",
    "\n",
    "### Florian Beyer\n",
    "### 2020-04-27\n",
    "### V0.2\n",
    "\n",
    "Quellen: \n",
    "- https://scikit-learn.org/stable/modules/generated/sklearn.ensemble.RandomForestRegressor.html\n",
    "- https://towardsdatascience.com/random-forest-in-python-24d0893d51c0\n",
    "- https://heartbeat.fritz.ai/random-forest-regression-in-python-using-scikit-learn-9e9b147e2153"
   ]
  },
  {
   "cell_type": "code",
   "execution_count": 1,
   "metadata": {},
   "outputs": [],
   "source": [
    "# Requried Packages\n",
    "from osgeo import gdal, ogr, gdal_array # I/O image data\n",
    "import numpy as np # math and array handling\n",
    "import matplotlib.pyplot as plt # plot figures\n",
    "import pandas as pd # handling large data as table sheets\n",
    "from joblib import dump, load\n",
    "from operator import itemgetter\n",
    "\n",
    "from sklearn.ensemble import RandomForestRegressor\n",
    "from sklearn.model_selection import train_test_split\n",
    "from sklearn.metrics import mean_squared_error, r2_score\n",
    "\n",
    "# Tell GDAL to throw Python exceptions, and register all drivers\n",
    "gdal.UseExceptions()\n",
    "gdal.AllRegister()"
   ]
  },
  {
   "cell_type": "code",
   "execution_count": 2,
   "metadata": {},
   "outputs": [],
   "source": [
    "# data input\n",
    "\n",
    "# define a number of trees that should be used (default = 500)\n",
    "est = 1000\n",
    "\n",
    "# Size of splitting the data (0.1 -> 10 % test data, 90 % training data)\n",
    "testSize = 0.25\n",
    "\n",
    "randomState = 35\n",
    "\n",
    "# the remote sensing image you want to classify\n",
    "img_RS = 'N:\\\\Daten_GG\\\\projekte\\\\PFIFFikus (EFRE) - 74120125\\\\Bilder\\\\2020_06_05_Bliesekow_EP1\\\\GIS\\\\Raster\\\\Multisensor_stack\\\\B1W_Stack_tif.tif'\n",
    "\n",
    "# training and validation\n",
    "#    as image in the same extand as your remote sensing image\n",
    "#    no data pixels = 0 or negative\n",
    "#    class pixels > 0 and as integer\n",
    "field = 'N:\\\\Daten_GG\\\\projekte\\\\PFIFFikus (EFRE) - 74120125\\\\Bilder\\\\2020_06_05_Bliesekow_EP1\\\\SPAD\\\\2020_05_06_Bliesekow_EP1_SPAD_W.shp'\n",
    "\n",
    "\n",
    "# what is the attributes name of your classes in the shape file (field name of the classes)?\n",
    "attribute = 'SPAD'\n",
    "\n",
    "\n",
    "# save path, predicted image\n",
    "prediction_map = 'N:\\\\Daten_GG\\\\projekte\\\\PFIFFikus (EFRE) - 74120125\\\\Bilder\\\\2020_06_05_Bliesekow_EP1\\\\GIS\\\\Ergebnis\\\\B1W_SPAD_RFR.tif'\n",
    "\n",
    "\n",
    "# save path, trained model\n",
    "save_model = 'N:\\\\Daten_GG\\\\projekte\\\\PFIFFikus (EFRE) - 74120125\\\\Bilder\\\\2020_06_05_Bliesekow_EP1\\\\GIS\\\\Ergebnis\\\\B1W_SPAD_RFR_model.joblib'\n"
   ]
  },
  {
   "cell_type": "code",
   "execution_count": 3,
   "metadata": {},
   "outputs": [
    {
     "name": "stdout",
     "output_type": "stream",
     "text": [
      "Available attributes in the shape file are: ['Datum_Uhrz', 'Ortho_Heig', 'Local_Elli', 'SPAD', 'B1WCode']\n"
     ]
    }
   ],
   "source": [
    "# laod training data and show all shape attributes\n",
    "\n",
    "#model_dataset = gdal.Open(model_raster_fname)\n",
    "shape_dataset = ogr.Open(field)\n",
    "shape_layer = shape_dataset.GetLayer()\n",
    "\n",
    "# extract the names of all attributes (fieldnames) in the shape file\n",
    "attributes = []\n",
    "ldefn = shape_layer.GetLayerDefn()\n",
    "for n in range(ldefn.GetFieldCount()):\n",
    "    fdefn = ldefn.GetFieldDefn(n)\n",
    "    attributes.append(fdefn.name)\n",
    "    \n",
    "# print the attributes\n",
    "print('Available attributes in the shape file are: {}'.format(attributes))"
   ]
  },
  {
   "cell_type": "code",
   "execution_count": 4,
   "metadata": {},
   "outputs": [],
   "source": [
    "# Data preparation\n",
    "\n",
    "# load image data\n",
    "\n",
    "img_ds = gdal.Open(img_RS, gdal.GA_ReadOnly)\n",
    "\n",
    "img = np.zeros((img_ds.RasterYSize, img_ds.RasterXSize, img_ds.RasterCount),\n",
    "               gdal_array.GDALTypeCodeToNumericTypeCode(img_ds.GetRasterBand(1).DataType))\n",
    "for b in range(img.shape[2]):\n",
    "    img[:, :, b] = img_ds.GetRasterBand(b + 1).ReadAsArray()"
   ]
  },
  {
   "cell_type": "code",
   "execution_count": 5,
   "metadata": {},
   "outputs": [],
   "source": [
    "# Data preparation\n",
    "# load training data from shape file\n",
    "\n",
    "#model_dataset = gdal.Open(model_raster_fname)\n",
    "shape_dataset = ogr.Open(field)\n",
    "shape_layer = shape_dataset.GetLayer()\n",
    "mem_drv = gdal.GetDriverByName('MEM')\n",
    "mem_raster = mem_drv.Create('',img_ds.RasterXSize,img_ds.RasterYSize,1,gdal.GDT_UInt16)\n",
    "mem_raster.SetProjection(img_ds.GetProjection())\n",
    "mem_raster.SetGeoTransform(img_ds.GetGeoTransform())\n",
    "mem_band = mem_raster.GetRasterBand(1)\n",
    "mem_band.Fill(0)\n",
    "mem_band.SetNoDataValue(0)\n",
    "\n",
    "att_ = 'ATTRIBUTE='+attribute\n",
    "# http://gdal.org/gdal__alg_8h.html#adfe5e5d287d6c184aab03acbfa567cb1\n",
    "# http://gis.stackexchange.com/questions/31568/gdal-rasterizelayer-doesnt-burn-all-polygons-to-raster\n",
    "err = gdal.RasterizeLayer(mem_raster, [1], shape_layer, None, None, [1],  [att_,\"ALL_TOUCHED=TRUE\"])\n",
    "assert err == gdal.CE_None\n",
    "\n",
    "roi = mem_raster.ReadAsArray()\n"
   ]
  },
  {
   "cell_type": "code",
   "execution_count": 6,
   "metadata": {},
   "outputs": [
    {
     "data": {
      "image/png": "[encoded data removed]",
      "text/plain": [
       "<Figure size 432x288 with 2 Axes>"
      ]
     },
     "metadata": {
      "needs_background": "light"
     },
     "output_type": "display_data"
    }
   ],
   "source": [
    "# Display image and Training data\n",
    "\n",
    "plt.subplot(121)\n",
    "plt.imshow(img[:, :, 0], cmap=plt.cm.Greys_r)\n",
    "plt.title('RS image - first band')\n",
    "\n",
    "plt.subplot(122)\n",
    "plt.imshow(roi, cmap=plt.cm.Spectral)\n",
    "plt.title('Training Image')\n",
    "\n",
    "plt.show()\n"
   ]
  },
  {
   "cell_type": "code",
   "execution_count": 7,
   "metadata": {},
   "outputs": [
    {
     "name": "stdout",
     "output_type": "stream",
     "text": [
      "We have 50 training samples\n"
     ]
    }
   ],
   "source": [
    "# Number of training pixels:\n",
    "n_samples = (roi > 0).sum()\n",
    "print('We have {n} training samples'.format(n=n_samples))# Subset the image dataset with the training image = X"
   ]
  },
  {
   "cell_type": "code",
   "execution_count": 8,
   "metadata": {},
   "outputs": [],
   "source": [
    "# Mask the classes on the training dataset = y\n",
    "# These will have n_samples rows\n",
    "X = img[roi > 0, :]\n",
    "y = roi[roi > 0]"
   ]
  },
  {
   "cell_type": "code",
   "execution_count": 9,
   "metadata": {},
   "outputs": [
    {
     "name": "stdout",
     "output_type": "stream",
     "text": [
      "The shape of our features is: (50, 24)\n",
      "The number of Spectra is: 50\n",
      "The number of bands is: 24\n"
     ]
    },
    {
     "data": {
      "text/html": [
       "<div>\n",
       "<style scoped>\n",
       "    .dataframe tbody tr th:only-of-type {\n",
       "        vertical-align: middle;\n",
       "    }\n",
       "\n",
       "    .dataframe tbody tr th {\n",
       "        vertical-align: top;\n",
       "    }\n",
       "\n",
       "    .dataframe thead th {\n",
       "        text-align: right;\n",
       "    }\n",
       "</style>\n",
       "<table border=\"1\" class=\"dataframe\">\n",
       "  <thead>\n",
       "    <tr style=\"text-align: right;\">\n",
       "      <th></th>\n",
       "      <th>Band_1</th>\n",
       "      <th>Band_2</th>\n",
       "      <th>Band_3</th>\n",
       "      <th>Band_4</th>\n",
       "      <th>Band_5</th>\n",
       "      <th>Band_6</th>\n",
       "      <th>Band_7</th>\n",
       "      <th>Band_8</th>\n",
       "      <th>Band_9</th>\n",
       "      <th>Band_10</th>\n",
       "      <th>...</th>\n",
       "      <th>Band_16</th>\n",
       "      <th>Band_17</th>\n",
       "      <th>Band_18</th>\n",
       "      <th>Band_19</th>\n",
       "      <th>Band_20</th>\n",
       "      <th>Band_21</th>\n",
       "      <th>Band_22</th>\n",
       "      <th>Band_23</th>\n",
       "      <th>Band_24</th>\n",
       "      <th>value</th>\n",
       "    </tr>\n",
       "  </thead>\n",
       "  <tbody>\n",
       "    <tr>\n",
       "      <th>0</th>\n",
       "      <td>93.0</td>\n",
       "      <td>110.0</td>\n",
       "      <td>62.0</td>\n",
       "      <td>0.061393</td>\n",
       "      <td>0.030123</td>\n",
       "      <td>0.223525</td>\n",
       "      <td>0.371749</td>\n",
       "      <td>83.198013</td>\n",
       "      <td>0.713376</td>\n",
       "      <td>31.781384</td>\n",
       "      <td>...</td>\n",
       "      <td>-1.039946</td>\n",
       "      <td>0.194021</td>\n",
       "      <td>0.594812</td>\n",
       "      <td>0.277508</td>\n",
       "      <td>-0.030896</td>\n",
       "      <td>0.249001</td>\n",
       "      <td>0.850086</td>\n",
       "      <td>-0.040554</td>\n",
       "      <td>-0.141645</td>\n",
       "      <td>43</td>\n",
       "    </tr>\n",
       "    <tr>\n",
       "      <th>1</th>\n",
       "      <td>65.0</td>\n",
       "      <td>83.0</td>\n",
       "      <td>32.0</td>\n",
       "      <td>0.062779</td>\n",
       "      <td>0.029833</td>\n",
       "      <td>0.235297</td>\n",
       "      <td>0.389327</td>\n",
       "      <td>84.212082</td>\n",
       "      <td>0.748821</td>\n",
       "      <td>29.997913</td>\n",
       "      <td>...</td>\n",
       "      <td>-1.086714</td>\n",
       "      <td>0.202041</td>\n",
       "      <td>0.621157</td>\n",
       "      <td>0.289761</td>\n",
       "      <td>-0.032183</td>\n",
       "      <td>0.246596</td>\n",
       "      <td>0.857652</td>\n",
       "      <td>-0.041749</td>\n",
       "      <td>-0.200004</td>\n",
       "      <td>43</td>\n",
       "    </tr>\n",
       "    <tr>\n",
       "      <th>2</th>\n",
       "      <td>59.0</td>\n",
       "      <td>82.0</td>\n",
       "      <td>31.0</td>\n",
       "      <td>0.064433</td>\n",
       "      <td>0.029586</td>\n",
       "      <td>0.234566</td>\n",
       "      <td>0.410683</td>\n",
       "      <td>82.499832</td>\n",
       "      <td>0.791779</td>\n",
       "      <td>27.410128</td>\n",
       "      <td>...</td>\n",
       "      <td>-1.173597</td>\n",
       "      <td>0.219361</td>\n",
       "      <td>0.651551</td>\n",
       "      <td>0.295002</td>\n",
       "      <td>-0.036927</td>\n",
       "      <td>0.272943</td>\n",
       "      <td>0.865601</td>\n",
       "      <td>-0.044273</td>\n",
       "      <td>-0.194383</td>\n",
       "      <td>42</td>\n",
       "    </tr>\n",
       "    <tr>\n",
       "      <th>3</th>\n",
       "      <td>46.0</td>\n",
       "      <td>64.0</td>\n",
       "      <td>16.0</td>\n",
       "      <td>0.062620</td>\n",
       "      <td>0.028081</td>\n",
       "      <td>0.238777</td>\n",
       "      <td>0.412774</td>\n",
       "      <td>82.707291</td>\n",
       "      <td>0.797466</td>\n",
       "      <td>28.541834</td>\n",
       "      <td>...</td>\n",
       "      <td>-1.173541</td>\n",
       "      <td>0.218155</td>\n",
       "      <td>0.660245</td>\n",
       "      <td>0.296587</td>\n",
       "      <td>-0.037053</td>\n",
       "      <td>0.267051</td>\n",
       "      <td>0.872606</td>\n",
       "      <td>-0.043053</td>\n",
       "      <td>-0.266641</td>\n",
       "      <td>42</td>\n",
       "    </tr>\n",
       "    <tr>\n",
       "      <th>4</th>\n",
       "      <td>142.0</td>\n",
       "      <td>129.0</td>\n",
       "      <td>83.0</td>\n",
       "      <td>0.081423</td>\n",
       "      <td>0.068457</td>\n",
       "      <td>0.200887</td>\n",
       "      <td>0.302140</td>\n",
       "      <td>83.896965</td>\n",
       "      <td>0.535823</td>\n",
       "      <td>24.173132</td>\n",
       "      <td>...</td>\n",
       "      <td>-0.806786</td>\n",
       "      <td>0.159008</td>\n",
       "      <td>0.382543</td>\n",
       "      <td>0.277124</td>\n",
       "      <td>-0.024612</td>\n",
       "      <td>0.201287</td>\n",
       "      <td>0.630559</td>\n",
       "      <td>-0.041020</td>\n",
       "      <td>0.186949</td>\n",
       "      <td>27</td>\n",
       "    </tr>\n",
       "  </tbody>\n",
       "</table>\n",
       "<p>5 rows × 25 columns</p>\n",
       "</div>"
      ],
      "text/plain": [
       "   Band_1  Band_2  Band_3    Band_4    Band_5    Band_6    Band_7     Band_8  \\\n",
       "0    93.0   110.0    62.0  0.061393  0.030123  0.223525  0.371749  83.198013   \n",
       "1    65.0    83.0    32.0  0.062779  0.029833  0.235297  0.389327  84.212082   \n",
       "2    59.0    82.0    31.0  0.064433  0.029586  0.234566  0.410683  82.499832   \n",
       "3    46.0    64.0    16.0  0.062620  0.028081  0.238777  0.412774  82.707291   \n",
       "4   142.0   129.0    83.0  0.081423  0.068457  0.200887  0.302140  83.896965   \n",
       "\n",
       "     Band_9    Band_10  ...   Band_16   Band_17   Band_18   Band_19   Band_20  \\\n",
       "0  0.713376  31.781384  ... -1.039946  0.194021  0.594812  0.277508 -0.030896   \n",
       "1  0.748821  29.997913  ... -1.086714  0.202041  0.621157  0.289761 -0.032183   \n",
       "2  0.791779  27.410128  ... -1.173597  0.219361  0.651551  0.295002 -0.036927   \n",
       "3  0.797466  28.541834  ... -1.173541  0.218155  0.660245  0.296587 -0.037053   \n",
       "4  0.535823  24.173132  ... -0.806786  0.159008  0.382543  0.277124 -0.024612   \n",
       "\n",
       "    Band_21   Band_22   Band_23   Band_24  value  \n",
       "0  0.249001  0.850086 -0.040554 -0.141645     43  \n",
       "1  0.246596  0.857652 -0.041749 -0.200004     43  \n",
       "2  0.272943  0.865601 -0.044273 -0.194383     42  \n",
       "3  0.267051  0.872606 -0.043053 -0.266641     42  \n",
       "4  0.201287  0.630559 -0.041020  0.186949     27  \n",
       "\n",
       "[5 rows x 25 columns]"
      ]
     },
     "execution_count": 9,
     "metadata": {},
     "output_type": "execute_result"
    }
   ],
   "source": [
    "features = pd.DataFrame(X)\n",
    "\n",
    "band_names = []\n",
    "for i in range(X.shape[1]):\n",
    "#for i in range(0,2500):\n",
    "    nband = \"Band_\"+ str(i+1)\n",
    "    band_names.append(nband)\n",
    "\n",
    "features.columns = band_names\n",
    "\n",
    "print('The shape of our features is:', features.shape)\n",
    "print('The number of Spectra is:', features.shape[0])\n",
    "print('The number of bands is:', features.shape[1])\n",
    "\n",
    "features['value'] = y\n",
    "\n",
    "features.head()\n"
   ]
  },
  {
   "cell_type": "code",
   "execution_count": 10,
   "metadata": {},
   "outputs": [
    {
     "name": "stdout",
     "output_type": "stream",
     "text": [
      "Training Features Shape: (37, 24)\n",
      "Training Labels Shape: (37,)\n",
      "Testing Features Shape: (13, 24)\n",
      "Testing Labels Shape: (13,)\n"
     ]
    }
   ],
   "source": [
    "# Labels are the values we want to predict\n",
    "labels = np.array(features['value'])\n",
    "\n",
    "# Remove the labels from the features\n",
    "# axis 1 refers to the columns\n",
    "features = features.drop('value', axis = 1)\n",
    "\n",
    "# Saving feature names for later use\n",
    "feature_list = list(features.columns)\n",
    "\n",
    "# Convert to numpy array\n",
    "features = np.array(features)\n",
    "\n",
    "# Split the data into training and testing sets\n",
    "train_features, test_features, train_labels, test_labels = train_test_split(features, labels, test_size = testSize, random_state = randomState)\n",
    "\n",
    "print('Training Features Shape:', train_features.shape)\n",
    "print('Training Labels Shape:', train_labels.shape)\n",
    "print('Testing Features Shape:', test_features.shape)\n",
    "print('Testing Labels Shape:', test_labels.shape)"
   ]
  },
  {
   "cell_type": "code",
   "execution_count": 11,
   "metadata": {},
   "outputs": [
    {
     "name": "stderr",
     "output_type": "stream",
     "text": [
      "[Parallel(n_jobs=-1)]: Using backend ThreadingBackend with 4 concurrent workers.\n",
      "[Parallel(n_jobs=-1)]: Done  42 tasks      | elapsed:    0.0s\n",
      "[Parallel(n_jobs=-1)]: Done 192 tasks      | elapsed:    0.1s\n",
      "[Parallel(n_jobs=-1)]: Done 442 tasks      | elapsed:    0.3s\n",
      "[Parallel(n_jobs=-1)]: Done 792 tasks      | elapsed:    0.5s\n",
      "[Parallel(n_jobs=-1)]: Done 1000 out of 1000 | elapsed:    0.7s finished\n"
     ]
    }
   ],
   "source": [
    "RFR = RandomForestRegressor(bootstrap=True,\n",
    "                             criterion='mse',\n",
    "                             max_depth=None,\n",
    "                             max_features='auto',\n",
    "                             max_leaf_nodes=None,\n",
    "                             min_impurity_decrease=0.0,\n",
    "                             min_impurity_split=None,\n",
    "                             min_samples_leaf=1,\n",
    "                             min_samples_split=2,\n",
    "                             min_weight_fraction_leaf=0.0,\n",
    "                             n_estimators=est,\n",
    "                             n_jobs=-1, # using all cores\n",
    "                             oob_score=True,\n",
    "                             random_state=randomState,\n",
    "                             verbose=1,\n",
    "                             warm_start=False)\n",
    "\n",
    "RFR.fit(train_features, train_labels);"
   ]
  },
  {
   "cell_type": "code",
   "execution_count": 12,
   "metadata": {},
   "outputs": [
    {
     "data": {
      "text/plain": [
       "0.6740436197053176"
      ]
     },
     "execution_count": 12,
     "metadata": {},
     "output_type": "execute_result"
    }
   ],
   "source": [
    "RFR.oob_score_"
   ]
  },
  {
   "cell_type": "code",
   "execution_count": 13,
   "metadata": {},
   "outputs": [
    {
     "name": "stderr",
     "output_type": "stream",
     "text": [
      "[Parallel(n_jobs=4)]: Using backend ThreadingBackend with 4 concurrent workers.\n",
      "[Parallel(n_jobs=4)]: Done  42 tasks      | elapsed:    0.0s\n",
      "[Parallel(n_jobs=4)]: Done 192 tasks      | elapsed:    0.0s\n",
      "[Parallel(n_jobs=4)]: Done 442 tasks      | elapsed:    0.0s\n",
      "[Parallel(n_jobs=4)]: Done 792 tasks      | elapsed:    0.0s\n",
      "[Parallel(n_jobs=4)]: Done 1000 out of 1000 | elapsed:    0.0s finished\n"
     ]
    },
    {
     "data": {
      "text/plain": [
       "0.9561231981895789"
      ]
     },
     "execution_count": 13,
     "metadata": {},
     "output_type": "execute_result"
    }
   ],
   "source": [
    "RFR.score(train_features, train_labels)"
   ]
  },
  {
   "cell_type": "code",
   "execution_count": 14,
   "metadata": {},
   "outputs": [
    {
     "name": "stdout",
     "output_type": "stream",
     "text": [
      "Band 1: 11.9\n",
      "Band 2: 1.1\n",
      "Band 3: 3.42\n",
      "Band 4: 19.55\n",
      "Band 5: 7.61\n",
      "Band 6: 1.2\n",
      "Band 7: 1.72\n",
      "Band 8: 1.2\n",
      "Band 9: 1.69\n",
      "Band 10: 4.06\n",
      "Band 11: 0.81\n",
      "Band 12: 6.12\n",
      "Band 13: 1.86\n",
      "Band 14: 2.09\n",
      "Band 15: 2.62\n",
      "Band 16: 1.48\n",
      "Band 17: 3.35\n",
      "Band 18: 2.79\n",
      "Band 19: 1.64\n",
      "Band 20: 5.9\n",
      "Band 21: 7.12\n",
      "Band 22: 5.02\n",
      "Band 23: 1.18\n",
      "Band 24: 4.56\n"
     ]
    }
   ],
   "source": [
    "# band importances\n",
    "imp = {}\n",
    "for i in range(len(RFR.feature_importances_)):\n",
    "    importance = round(RFR.feature_importances_[i]*100,2)\n",
    "    print('Band {}: {}'.format(i+1, importance))\n",
    "    imp['Band{}'.format(i+1)] = importance"
   ]
  },
  {
   "cell_type": "code",
   "execution_count": 15,
   "metadata": {},
   "outputs": [
    {
     "data": {
      "text/plain": [
       "{'Band4': 19.55,\n",
       " 'Band1': 11.9,\n",
       " 'Band5': 7.61,\n",
       " 'Band21': 7.12,\n",
       " 'Band12': 6.12,\n",
       " 'Band20': 5.9,\n",
       " 'Band22': 5.02,\n",
       " 'Band24': 4.56,\n",
       " 'Band10': 4.06,\n",
       " 'Band3': 3.42,\n",
       " 'Band17': 3.35,\n",
       " 'Band18': 2.79,\n",
       " 'Band15': 2.62,\n",
       " 'Band14': 2.09,\n",
       " 'Band13': 1.86,\n",
       " 'Band7': 1.72,\n",
       " 'Band9': 1.69,\n",
       " 'Band19': 1.64,\n",
       " 'Band16': 1.48,\n",
       " 'Band6': 1.2,\n",
       " 'Band8': 1.2,\n",
       " 'Band23': 1.18,\n",
       " 'Band2': 1.1,\n",
       " 'Band11': 0.81}"
      ]
     },
     "execution_count": 15,
     "metadata": {},
     "output_type": "execute_result"
    }
   ],
   "source": [
    "sorted_imp = dict(sorted(imp.items(), key=itemgetter(1), reverse=True))\n",
    "sorted_imp "
   ]
  },
  {
   "cell_type": "code",
   "execution_count": 16,
   "metadata": {},
   "outputs": [
    {
     "name": "stderr",
     "output_type": "stream",
     "text": [
      "[Parallel(n_jobs=4)]: Using backend ThreadingBackend with 4 concurrent workers.\n",
      "[Parallel(n_jobs=4)]: Done  42 tasks      | elapsed:    0.0s\n",
      "[Parallel(n_jobs=4)]: Done 192 tasks      | elapsed:    0.0s\n",
      "[Parallel(n_jobs=4)]: Done 442 tasks      | elapsed:    0.0s\n",
      "[Parallel(n_jobs=4)]: Done 792 tasks      | elapsed:    0.0s\n",
      "[Parallel(n_jobs=4)]: Done 1000 out of 1000 | elapsed:    0.0s finished\n"
     ]
    }
   ],
   "source": [
    "# Use the forest's predict method on the test data\n",
    "predictions_test_ds = RFR.predict(test_features)"
   ]
  },
  {
   "cell_type": "code",
   "execution_count": 17,
   "metadata": {},
   "outputs": [
    {
     "name": "stdout",
     "output_type": "stream",
     "text": [
      "-------------\n",
      "n of the test data: 13\n",
      "Mean of the variable: 39.44\n",
      "Standard deviation of the variable: 6.67\n",
      "-------------\n",
      "Mean Absolute Error: 2.91\n",
      "Mean squared error: 15.06\n",
      "RMSE: 3.88\n",
      "mean absolute percentage error (MAPE) / Accuracy: 92.78 %.\n",
      "-------------\n",
      "Coefficient of determination r²: 0.73\n"
     ]
    }
   ],
   "source": [
    "# Calculate the absolute errors\n",
    "errors = abs(predictions_test_ds - test_labels)\n",
    "# Print out the mean absolute error (mae)\n",
    "\n",
    "# Print out the mean absolute error (mae)\n",
    "\n",
    "\n",
    "print('-------------')\n",
    "print('n of the test data: {}'.format(len(test_labels)))\n",
    "print('Mean of the variable: {:.2f}'.format(np.mean(labels)))\n",
    "print('Standard deviation of the variable: {:.2f}'.format(np.std(labels)))\n",
    "print('-------------')\n",
    "print('Mean Absolute Error: {:.2f}'.format(np.mean(errors)))\n",
    "\n",
    "mse = mean_squared_error(test_labels, predictions_test_ds)\n",
    "print('Mean squared error: {:.2f}'.format(mse))\n",
    "print('RMSE: {:.2f}'.format(np.sqrt(mse)))\n",
    "\n",
    "'''\n",
    "To put our predictions in perspective, we can calculate an accuracy using\n",
    "the mean average percentage error subtracted from 100 %.\n",
    "'''\n",
    "\n",
    "# Calculate mean absolute percentage error (MAPE)\n",
    "mape = 100 * (errors / test_labels)\n",
    "# Calculate and display accuracy\n",
    "accuracy = 100 - np.mean(mape)\n",
    "print('mean absolute percentage error (MAPE) / Accuracy: {:.2f}'.format(accuracy), '%.')\n",
    "print('-------------')\n",
    "# The coefficient of determination: 1 is perfect prediction\n",
    "print('Coefficient of determination r²: {:.2f}'.format(r2_score(test_labels, predictions_test_ds)))\n",
    "\n"
   ]
  },
  {
   "cell_type": "code",
   "execution_count": 18,
   "metadata": {},
   "outputs": [
    {
     "data": {
      "image/png": "[encoded data removed]",
      "text/plain": [
       "<Figure size 432x288 with 1 Axes>"
      ]
     },
     "metadata": {
      "needs_background": "light"
     },
     "output_type": "display_data"
    }
   ],
   "source": [
    "fig, ax = plt.subplots()\n",
    "ax.scatter(test_labels, predictions_test_ds)\n",
    "ax.plot([test_labels.min(), test_labels.max()], [test_labels.min(), test_labels.max()], 'k--', lw=1)\n",
    "ax.set_xlabel('Measured')\n",
    "ax.set_ylabel('Predicted')\n",
    "\n",
    "plt.show()"
   ]
  },
  {
   "cell_type": "code",
   "execution_count": 19,
   "metadata": {},
   "outputs": [
    {
     "name": "stdout",
     "output_type": "stream",
     "text": [
      "Reshaped from (3293, 6932, 24) to (22827076, 24)\n"
     ]
    }
   ],
   "source": [
    "# Predicting the rest of the image\n",
    "\n",
    "# Take our full image and reshape into long 2d array (nrow * ncol, nband) for classification\n",
    "new_shape = (img.shape[0] * img.shape[1], img.shape[2])\n",
    "img_as_array = img[:, :, :].reshape(new_shape)\n",
    "\n",
    "print('Reshaped from {o} to {n}'.format(o=img.shape, n=img_as_array.shape))\n",
    "\n",
    "img_as_array = np.nan_to_num(img_as_array)"
   ]
  },
  {
   "cell_type": "code",
   "execution_count": 20,
   "metadata": {},
   "outputs": [
    {
     "name": "stderr",
     "output_type": "stream",
     "text": [
      "[Parallel(n_jobs=4)]: Using backend ThreadingBackend with 4 concurrent workers.\n",
      "[Parallel(n_jobs=4)]: Done  42 tasks      | elapsed:    7.8s\n",
      "[Parallel(n_jobs=4)]: Done 192 tasks      | elapsed:   34.7s\n",
      "[Parallel(n_jobs=4)]: Done 442 tasks      | elapsed:  1.3min\n",
      "[Parallel(n_jobs=4)]: Done 792 tasks      | elapsed:  2.3min\n",
      "[Parallel(n_jobs=4)]: Done 1000 out of 1000 | elapsed:  2.9min finished\n"
     ]
    }
   ],
   "source": [
    "prediction_ = RFR.predict(img_as_array)"
   ]
  },
  {
   "cell_type": "code",
   "execution_count": 21,
   "metadata": {},
   "outputs": [
    {
     "name": "stdout",
     "output_type": "stream",
     "text": [
      "Reshaped back to (3293, 6932)\n"
     ]
    }
   ],
   "source": [
    "prediction = prediction_.reshape(img[:, :, 0].shape)\n",
    "print('Reshaped back to {}'.format(prediction.shape))"
   ]
  },
  {
   "cell_type": "code",
   "execution_count": 22,
   "metadata": {},
   "outputs": [
    {
     "data": {
      "text/plain": [
       "<matplotlib.image.AxesImage at 0x21510572a90>"
      ]
     },
     "execution_count": 22,
     "metadata": {},
     "output_type": "execute_result"
    },
    {
     "data": {
      "image/png": "[encoded data removed]",
      "text/plain": [
       "<Figure size 432x288 with 1 Axes>"
      ]
     },
     "metadata": {
      "needs_background": "light"
     },
     "output_type": "display_data"
    }
   ],
   "source": [
    "# generate mask image from red band\n",
    "mask = np.copy(img[:,:,0])\n",
    "mask[mask > 0.0] = 1.0 # all actual pixels have a value of 1.0\n",
    "\n",
    "# plot mask\n",
    "\n",
    "plt.imshow(mask)"
   ]
  },
  {
   "cell_type": "code",
   "execution_count": 23,
   "metadata": {},
   "outputs": [],
   "source": [
    "# mask classification an plot\n",
    "\n",
    "prediction.astype(np.float32)\n",
    "prediction = prediction*mask\n",
    "\n"
   ]
  },
  {
   "cell_type": "code",
   "execution_count": 24,
   "metadata": {},
   "outputs": [
    {
     "name": "stdout",
     "output_type": "stream",
     "text": [
      "Image saved to: N:\\Daten_GG\\projekte\\PFIFFikus (EFRE) - 74120125\\Bilder\\2020_06_05_Bliesekow_EP1\\GIS\\Ergebnis\\B1W_SPAD_RFR.tif\n"
     ]
    }
   ],
   "source": [
    "# Save regression\n",
    "\n",
    "cols = img.shape[1]\n",
    "rows = img.shape[0]\n",
    "\n",
    "prediction.astype(np.float32)\n",
    "\n",
    "driver = gdal.GetDriverByName(\"gtiff\")\n",
    "outdata = driver.Create(prediction_map, cols, rows, 1, gdal.GDT_Float32)\n",
    "outdata.SetGeoTransform(img_ds.GetGeoTransform())##sets same geotransform as input\n",
    "outdata.SetProjection(img_ds.GetProjection())##sets same projection as input\n",
    "outdata.GetRasterBand(1).WriteArray(prediction)\n",
    "outdata.FlushCache() ##saves to disk!!\n",
    "print('Image saved to: {}'.format(prediction_map))"
   ]
  },
  {
   "cell_type": "code",
   "execution_count": 25,
   "metadata": {},
   "outputs": [
    {
     "data": {
      "image/png": "[encoded data removed]",
      "text/plain": [
       "<Figure size 432x288 with 2 Axes>"
      ]
     },
     "metadata": {
      "needs_background": "light"
     },
     "output_type": "display_data"
    }
   ],
   "source": [
    "# Display images\n",
    "plt.subplot(121)\n",
    "plt.imshow(img[:, :, 0], cmap=plt.cm.Greys_r)\n",
    "plt.title('RS image - first band')\n",
    "\n",
    "plt.subplot(122)\n",
    "plt.imshow(prediction, cmap=plt.cm.Spectral)\n",
    "plt.title('Prediction')\n",
    "\n",
    "plt.show()"
   ]
  },
  {
   "cell_type": "code",
   "execution_count": null,
   "metadata": {},
   "outputs": [],
   "source": []
  },
  {
   "cell_type": "code",
   "execution_count": null,
   "metadata": {},
   "outputs": [],
   "source": []
  },
  {
   "cell_type": "code",
   "execution_count": null,
   "metadata": {},
   "outputs": [],
   "source": []
  },
  {
   "cell_type": "code",
   "execution_count": null,
   "metadata": {},
   "outputs": [],
   "source": []
  },
  {
   "cell_type": "code",
   "execution_count": null,
   "metadata": {},
   "outputs": [],
   "source": []
  },
  {
   "cell_type": "code",
   "execution_count": 26,
   "metadata": {},
   "outputs": [
    {
     "name": "stdout",
     "output_type": "stream",
     "text": [
      "predicted 31.07 vs. 32.0 observed\n",
      "predicted 47.03 vs. 48.0 observed\n",
      "predicted 30.9 vs. 29.0 observed\n",
      "predicted 30.0 vs. 30.0 observed\n",
      "predicted 43.89 vs. 42.0 observed\n",
      "predicted 45.84 vs. 54.0 observed\n",
      "predicted 40.96 vs. 32.0 observed\n",
      "predicted 42.0 vs. 42.0 observed\n",
      "predicted 42.84 vs. 43.0 observed\n",
      "predicted 38.96 vs. 39.0 observed\n",
      "predicted 39.68 vs. 37.0 observed\n",
      "predicted 34.04 vs. 29.0 observed\n",
      "predicted 39.51 vs. 43.0 observed\n",
      "predicted 44.46 vs. 43.0 observed\n",
      "predicted 36.17 vs. 29.0 observed\n",
      "predicted 42.82 vs. 47.0 observed\n",
      "predicted 38.41 vs. 32.0 observed\n",
      "predicted 33.81 vs. 36.0 observed\n",
      "predicted 37.83 vs. 44.0 observed\n",
      "predicted 31.78 vs. 31.0 observed\n",
      "predicted 37.96 vs. 41.0 observed\n",
      "predicted 43.2 vs. 42.0 observed\n",
      "predicted 43.41 vs. 45.0 observed\n",
      "predicted 42.46 vs. 40.0 observed\n",
      "predicted 37.35 vs. 41.0 observed\n",
      "predicted 43.7 vs. 45.0 observed\n",
      "predicted 44.29 vs. 43.0 observed\n",
      "predicted 46.48 vs. 46.0 observed\n",
      "predicted 31.97 vs. 30.0 observed\n",
      "predicted 46.31 vs. 44.0 observed\n",
      "predicted 37.29 vs. 43.0 observed\n",
      "predicted 42.84 vs. 43.0 observed\n",
      "predicted 32.86 vs. 39.0 observed\n",
      "predicted 35.4 vs. 34.0 observed\n",
      "predicted 31.04 vs. 33.0 observed\n",
      "predicted 32.08 vs. 32.0 observed\n",
      "predicted 37.91 vs. 39.0 observed\n"
     ]
    },
    {
     "data": {
      "image/png": "[encoded data removed]",
      "text/plain": [
       "<Figure size 432x288 with 1 Axes>"
      ]
     },
     "metadata": {
      "needs_background": "light"
     },
     "output_type": "display_data"
    }
   ],
   "source": [
    "pred1 = np.array(RFR.oob_prediction_)\n",
    "obs = np.array(train_labels)\n",
    "obs = [np.float(i) for i in obs]\n",
    "\n",
    "for i in range(len(pred1)):\n",
    "    print('predicted {} vs. {} observed'.format(round(pred1[i],2), round(obs[i],2)))\n",
    "\n",
    "#print(pred1)\n",
    "#print(obs)\n",
    "\n",
    "fig,ax = plt.subplots()\n",
    "ax.scatter(obs,pred1)\n",
    "ax.plot([train_labels.min(), train_labels.max()], [train_labels.min(), train_labels.max()], 'k--', lw=1)\n",
    "ax.set_xlabel('Measured')\n",
    "ax.set_ylabel('Predicted')\n",
    "plt.show()"
   ]
  },
  {
   "cell_type": "code",
   "execution_count": 27,
   "metadata": {},
   "outputs": [
    {
     "name": "stdout",
     "output_type": "stream",
     "text": [
      "Mean squared error: 12.94\n",
      "Coefficient of determination: 0.67\n"
     ]
    }
   ],
   "source": [
    "print('Mean squared error: %.2f'\n",
    "      % mean_squared_error(obs, pred1))\n",
    "# The coefficient of determination: 1 is perfect prediction\n",
    "print('Coefficient of determination: %.2f'\n",
    "      % r2_score(obs, pred1))"
   ]
  },
  {
   "cell_type": "code",
   "execution_count": null,
   "metadata": {},
   "outputs": [],
   "source": []
  }
 ],
 "metadata": {
  "kernelspec": {
   "display_name": "Python 3",
   "language": "python",
   "name": "python3"
  },
  "language_info": {
   "codemirror_mode": {
    "name": "ipython",
    "version": 3
   },
   "file_extension": ".py",
   "mimetype": "text/x-python",
   "name": "python",
   "nbconvert_exporter": "python",
   "pygments_lexer": "ipython3",
   "version": "3.8.2"
  }
 },
 "nbformat": 4,
 "nbformat_minor": 4
}
